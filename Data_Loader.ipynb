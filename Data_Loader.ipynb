{
 "cells": [
  {
   "cell_type": "code",
   "execution_count": 1,
   "metadata": {},
   "outputs": [],
   "source": [
    "import json\n",
    "import numpy as np\n",
    "import pandas as pd\n",
    "import pickle\n",
    "\n",
    "with open('./data/python100.json') as data_file:\n",
    "    all_data = [json.loads(r) for r in data_file.readlines()]"
   ]
  },
  {
   "cell_type": "code",
   "execution_count": 2,
   "metadata": {},
   "outputs": [
    {
     "data": {
      "text/plain": [
       "100"
      ]
     },
     "execution_count": 2,
     "metadata": {},
     "output_type": "execute_result"
    }
   ],
   "source": [
    "len(all_data)"
   ]
  },
  {
   "cell_type": "code",
   "execution_count": 3,
   "metadata": {},
   "outputs": [],
   "source": [
    "# input: a code source with multiple functions\n",
    "# output: a dictionary: key is the code index, value is all functions and their children idx \n",
    "# e.g. full_list[index] =  (f_info,[children_idx])\n",
    "\n",
    "def find_function_children(data):\n",
    "\n",
    "    functions = [(i,text) for i, text in enumerate(data) if text['type'] == 'FunctionDef']\n",
    "\n",
    "    full_list = {}\n",
    "    for (index, f) in functions:\n",
    "        ans = []\n",
    "        row = f['children']\n",
    "        while row:\n",
    "            for i in row:\n",
    "                ans.append(i)\n",
    "            row = [node for root in row for node in data[root].get('children',[]) if node]\n",
    "        full_list[index] =  (f,ans)\n",
    "    \n",
    "    return full_list"
   ]
  },
  {
   "cell_type": "code",
   "execution_count": 4,
   "metadata": {},
   "outputs": [],
   "source": [
    "def check_child(type_name, data):\n",
    "    if data['type'] == type_name:\n",
    "        if data['children']:\n",
    "            return data['children']"
   ]
  },
  {
   "cell_type": "code",
   "execution_count": 5,
   "metadata": {},
   "outputs": [],
   "source": [
    "# input: k,v in full_list,  v[1]\n",
    "# output: a string with all functions call e.g. 'create_stubs,first,AndReturn,ReplayAll,vpnservice_get,request'\n",
    "\n",
    "def find_call_func(function_list, data):\n",
    "    \n",
    "    ans = []\n",
    "    \n",
    "    for children_id in function_list:\n",
    "        if check_child('Call', data[children_id]):\n",
    "            for j in data[children_id]['children']:\n",
    "                if check_child('AttributeLoad', data[j]):\n",
    "                    for z in check_child('AttributeLoad', data[j]):\n",
    "                        if data[z]['type'] == 'attr': \n",
    "                            ans.append(data[z]['value'])\n",
    "    call_func = ','.join(ans)\n",
    "    return call_func\n",
    "    "
   ]
  },
  {
   "cell_type": "code",
   "execution_count": 6,
   "metadata": {},
   "outputs": [],
   "source": [
    "# input: k,v in full_list,  v[1]\n",
    "# output: a string, the function's docstring \n",
    "def find_docstring(function_list, data):\n",
    "    \n",
    "    docstring = ''\n",
    "    \n",
    "    for children_id in function_list:\n",
    "        if data[children_id]['type'] == 'Expr':\n",
    "            if data[data[children_id]['children'][0]]['type'] == 'Str':\n",
    "                docstring = data[data[children_id]['children'][0]]['value']\n",
    "    return docstring"
   ]
  },
  {
   "cell_type": "code",
   "execution_count": 7,
   "metadata": {},
   "outputs": [],
   "source": [
    "# input: code data\n",
    "# output: a tuple, (function_name, docstring, functions_call)\n",
    "\n",
    "def find_function_info(data):\n",
    "    \n",
    "    ans = []\n",
    "    full_list = find_function_children(data)\n",
    "    \n",
    "    for k, v in full_list.items():\n",
    "        docstring = find_docstring(v[1], data)\n",
    "        call_def = find_call_func(v[1], data)\n",
    "        \n",
    "        if docstring:\n",
    "            ans.append((full_list[k][0]['value'], docstring, call_def))\n",
    "        elif call_def:\n",
    "            ans.append((full_list[k][0]['value'], '', call_def))\n",
    "            \n",
    "    return ans"
   ]
  },
  {
   "cell_type": "code",
   "execution_count": 8,
   "metadata": {},
   "outputs": [],
   "source": [
    "# Read data and create pandas dataframe\n",
    "function_info = []\n",
    "for i, value in enumerate(all_data):\n",
    "    func_doc = find_function_info(value)\n",
    "    if func_doc:\n",
    "        for tuples in func_doc:\n",
    "            function_info.append([i, tuples[0], tuples[1].replace(\"\\n\", \" \").rstrip(), tuples[2]])"
   ]
  },
  {
   "cell_type": "code",
   "execution_count": 11,
   "metadata": {},
   "outputs": [],
   "source": [
    "with open('./data/pickle100_list.pkl','wb') as f:\n",
    "     pickle.dump(function_info, f)"
   ]
  },
  {
   "cell_type": "code",
   "execution_count": null,
   "metadata": {},
   "outputs": [],
   "source": []
  },
  {
   "cell_type": "code",
   "execution_count": null,
   "metadata": {},
   "outputs": [],
   "source": []
  },
  {
   "cell_type": "code",
   "execution_count": 12,
   "metadata": {},
   "outputs": [],
   "source": [
    "#unpickled_df = pd.DataFrame(function_info, columns=['data_id', 'function_name', 'docstring', 'func_call'])"
   ]
  },
  {
   "cell_type": "code",
   "execution_count": 35,
   "metadata": {},
   "outputs": [],
   "source": [
    "#unpickled_df['keep_in_codebase'] = np.where(((unpickled_df.function_name == unpickled_df.func_call)| (unpickled_df['func_call'] == '') ), 0, 1)"
   ]
  },
  {
   "cell_type": "code",
   "execution_count": 13,
   "metadata": {},
   "outputs": [],
   "source": [
    "#unpickled_df[(unpickled_df.function_name == '__init__') & (unpickled_df.keep_in_codebase == 1)]"
   ]
  },
  {
   "cell_type": "code",
   "execution_count": 16,
   "metadata": {},
   "outputs": [],
   "source": [
    "#unpickled_df['filter'] = np.where((unpickled_df.function_name == unpickled_df.func_call) , 0, 1)"
   ]
  },
  {
   "cell_type": "code",
   "execution_count": 14,
   "metadata": {},
   "outputs": [],
   "source": [
    "#unpickled_df[unpickled_df['function_name'] == '__init__'].loc[146].func_call"
   ]
  },
  {
   "cell_type": "code",
   "execution_count": null,
   "metadata": {},
   "outputs": [],
   "source": []
  }
 ],
 "metadata": {
  "kernelspec": {
   "display_name": "Python 3",
   "language": "python",
   "name": "python3"
  },
  "language_info": {
   "codemirror_mode": {
    "name": "ipython",
    "version": 3
   },
   "file_extension": ".py",
   "mimetype": "text/x-python",
   "name": "python",
   "nbconvert_exporter": "python",
   "pygments_lexer": "ipython3",
   "version": "3.6.7"
  }
 },
 "nbformat": 4,
 "nbformat_minor": 2
}
