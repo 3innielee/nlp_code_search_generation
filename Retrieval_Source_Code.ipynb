{
 "cells": [
  {
   "cell_type": "markdown",
   "metadata": {},
   "source": [
    "# Data"
   ]
  },
  {
   "cell_type": "markdown",
   "metadata": {},
   "source": [
    "[150k Python Dataset](https://eth-sri.github.io/py150) from SRILAB."
   ]
  },
  {
   "cell_type": "markdown",
   "metadata": {},
   "source": [
    "# Code representation"
   ]
  },
  {
   "cell_type": "markdown",
   "metadata": {},
   "source": [
    "A continuous vector embedding of each code fragment at method–level granularity as \"document\".[13] FastText, a variation of Word2Vec algorithm.\n",
    "- Extracting Information from Source Code\n",
    "    - simple tokenizer: extract all words from source code by removing non–alphanumeric tokens.=> indifferenciable\n",
    "    - parser-based approach: traverse through the parse tree for each method, and extract information from the following syntactic categories. (Java-like)\n",
    "        - method name\n",
    "        - method invocation\n",
    "        - Enums\n",
    "        - String literals\n",
    "        - comments\n",
    "        - <strike>variable name</strike>\n",
    "- Building Vector Representations\n",
    "    - <strike>simply average embeddings</strike>\n",
    "    - Weighted average of all unique words in a document=> normalized tf-idf\n",
    "- Retrieval\n",
    "    - average the vector representations of constituent words to create a document embedding for the query sentence\n",
    "    - a standard similarity search algorithm to find the document vectors with closest cosine distance. => FAISS "
   ]
  },
  {
   "cell_type": "markdown",
   "metadata": {},
   "source": [
    "# Model"
   ]
  },
  {
   "cell_type": "markdown",
   "metadata": {},
   "source": [
    "Input: natural language queries <br>\n",
    "Output: related code fragments retrieved directly from Github code corpus<br><br>\n",
    "\n",
    "Map the Input into the same vector space as the codebase, and then calculate the vector distance of them in order to get the relevant result."
   ]
  },
  {
   "cell_type": "markdown",
   "metadata": {},
   "source": [
    "# Evaluation"
   ]
  },
  {
   "cell_type": "markdown",
   "metadata": {},
   "source": [
    "Metric and choosing parameters of the model\n",
    "\n",
    "- Metric: select subsets of words from the document as simulated queries and then see if it can retrive the document, and then evaluate by the percentage of the documents that are retrieve back at top1 and top10. \n",
    "    - random benchmark test\n",
    "    - TF-IDF benchmark test => better performance\n",
    "- Parameters:\n",
    "    - embedding dimention=> 500\n",
    "    - three ways of combining word embeddings to document embeddings=> the conclusion is tf-idf better\n",
    "    - vector representation=> BM25 is better"
   ]
  },
  {
   "cell_type": "markdown",
   "metadata": {},
   "source": [
    "# Implementation"
   ]
  },
  {
   "cell_type": "code",
   "execution_count": 1,
   "metadata": {},
   "outputs": [],
   "source": [
    "import numpy as np\n",
    "import pandas as pd\n",
    "import string\n",
    "import re\n",
    "\n",
    "from gensim.models import FastText"
   ]
  },
  {
   "cell_type": "markdown",
   "metadata": {},
   "source": [
    "## Data Processing"
   ]
  },
  {
   "cell_type": "code",
   "execution_count": 2,
   "metadata": {},
   "outputs": [
    {
     "name": "stdout",
     "output_type": "stream",
     "text": [
      "Total Number of Functions: 1038\n"
     ]
    },
    {
     "data": {
      "text/html": [
       "<div>\n",
       "<style scoped>\n",
       "    .dataframe tbody tr th:only-of-type {\n",
       "        vertical-align: middle;\n",
       "    }\n",
       "\n",
       "    .dataframe tbody tr th {\n",
       "        vertical-align: top;\n",
       "    }\n",
       "\n",
       "    .dataframe thead th {\n",
       "        text-align: right;\n",
       "    }\n",
       "</style>\n",
       "<table border=\"1\" class=\"dataframe\">\n",
       "  <thead>\n",
       "    <tr style=\"text-align: right;\">\n",
       "      <th></th>\n",
       "      <th>data_id</th>\n",
       "      <th>function_name</th>\n",
       "      <th>docstring</th>\n",
       "      <th>func_call</th>\n",
       "    </tr>\n",
       "  </thead>\n",
       "  <tbody>\n",
       "    <tr>\n",
       "      <th>0</th>\n",
       "      <td>1</td>\n",
       "      <td>__getattribute__</td>\n",
       "      <td></td>\n",
       "      <td>__getattribute__</td>\n",
       "    </tr>\n",
       "    <tr>\n",
       "      <th>1</th>\n",
       "      <td>1</td>\n",
       "      <td>__setattr__</td>\n",
       "      <td></td>\n",
       "      <td>ref,__setattr__</td>\n",
       "    </tr>\n",
       "    <tr>\n",
       "      <th>2</th>\n",
       "      <td>2</td>\n",
       "      <td>main</td>\n",
       "      <td></td>\n",
       "      <td>setup,closing,ZmqProxy,consume_in_thread,wait</td>\n",
       "    </tr>\n",
       "    <tr>\n",
       "      <th>3</th>\n",
       "      <td>3</td>\n",
       "      <td>test_vpnservice_create</td>\n",
       "      <td></td>\n",
       "      <td>create_stubs,first,AndReturn,ReplayAll,vpnserv...</td>\n",
       "    </tr>\n",
       "    <tr>\n",
       "      <th>4</th>\n",
       "      <td>3</td>\n",
       "      <td>test_vpnservices_get</td>\n",
       "      <td></td>\n",
       "      <td>create_stubs,AndReturn,ReplayAll,vpnservices_g...</td>\n",
       "    </tr>\n",
       "  </tbody>\n",
       "</table>\n",
       "</div>"
      ],
      "text/plain": [
       "  data_id           function_name docstring  \\\n",
       "0       1        __getattribute__             \n",
       "1       1             __setattr__             \n",
       "2       2                    main             \n",
       "3       3  test_vpnservice_create             \n",
       "4       3    test_vpnservices_get             \n",
       "\n",
       "                                           func_call  \n",
       "0                                   __getattribute__  \n",
       "1                                    ref,__setattr__  \n",
       "2      setup,closing,ZmqProxy,consume_in_thread,wait  \n",
       "3  create_stubs,first,AndReturn,ReplayAll,vpnserv...  \n",
       "4  create_stubs,AndReturn,ReplayAll,vpnservices_g...  "
      ]
     },
     "execution_count": 2,
     "metadata": {},
     "output_type": "execute_result"
    }
   ],
   "source": [
    "# load in processed file. A set of keywords for each document (source code function)\n",
    "unpickled_df = pd.read_pickle(\"data/py100.pkl\")\n",
    "func_size=len(unpickled_df)\n",
    "print(\"Total Number of Functions: {}\".format(func_size))\n",
    "unpickled_df.head()"
   ]
  },
  {
   "cell_type": "code",
   "execution_count": 3,
   "metadata": {},
   "outputs": [],
   "source": [
    "def parse_func_name(terms):\n",
    "    \n",
    "    # remove punctuations except for \"_\"\n",
    "    ## reference: https://stackoverflow.com/questions/265960/best-way-to-strip-punctuation-from-a-string-in-python\n",
    "    regex = re.compile('[%s]' % re.escape(string.punctuation.replace(\"_\", \"\")))\n",
    "    terms=regex.sub('', terms)\n",
    "    \n",
    "    #[TODO] camel case\n",
    "    \n",
    "    # [TODO] deal with __init__\n",
    "\n",
    "    # lowercase\n",
    "    terms=terms.lower()\n",
    "    \n",
    "    # snake case\n",
    "    return [term for term in terms.split(\"_\") if term!=\"\"]\n",
    "    "
   ]
  },
  {
   "cell_type": "code",
   "execution_count": 4,
   "metadata": {},
   "outputs": [],
   "source": [
    "# for each function, combine all the keywords into a set\n",
    "list_function_keywords=[]\n",
    "for idx in range(len(unpickled_df)):\n",
    "    keywords=[]\n",
    "    \n",
    "    func_name=parse_func_name(unpickled_df.iloc[idx][\"function_name\"].lower())\n",
    "    keywords+=func_name\n",
    "    \n",
    "    #[TODO] only alphabenumeric characters\n",
    "    #[TODO] camel case\n",
    "    #[TODO] snake case\n",
    "    \n",
    "    if unpickled_df.iloc[idx][\"docstring\"]:\n",
    "        docstring=unpickled_df.iloc[idx][\"docstring\"].lower().split()\n",
    "        keywords+=docstring\n",
    "    \n",
    "    if unpickled_df.iloc[idx][\"func_call\"]:\n",
    "        func_invoc=unpickled_df.iloc[idx][\"func_call\"].lower().split(\",\")\n",
    "        keywords+=func_invoc\n",
    "    \n",
    "    list_function_keywords.append(set(keywords))"
   ]
  },
  {
   "cell_type": "code",
   "execution_count": 5,
   "metadata": {},
   "outputs": [
    {
     "data": {
      "text/plain": [
       "1038"
      ]
     },
     "execution_count": 5,
     "metadata": {},
     "output_type": "execute_result"
    }
   ],
   "source": [
    "len(list_function_keywords)"
   ]
  },
  {
   "cell_type": "markdown",
   "metadata": {},
   "source": [
    "## Building Word Embeddings"
   ]
  },
  {
   "cell_type": "code",
   "execution_count": 6,
   "metadata": {},
   "outputs": [],
   "source": [
    "# hyperparameters\n",
    "vocab_size=200\n",
    "window_size=5\n",
    "min_count=1\n",
    "\n",
    "\n",
    "# other parameters defined earlier\n",
    "# func_size"
   ]
  },
  {
   "cell_type": "code",
   "execution_count": 7,
   "metadata": {},
   "outputs": [],
   "source": [
    "# We employ the continuous skip–gram model with a window size of 5, \n",
    "# i.e. all pairs of words within distance 5 are considered nearby words.\n",
    "\n",
    "#[TODO] tuning hyperparameters\n",
    "model = FastText(size=vocab_size, window=window_size, min_count=min_count)  # instantiate\n",
    "model.build_vocab(sentences=list_function_keywords)\n",
    "model.train(sentences=list_function_keywords, total_examples=len(list_function_keywords), epochs=10)  # train"
   ]
  },
  {
   "cell_type": "code",
   "execution_count": 8,
   "metadata": {},
   "outputs": [
    {
     "name": "stdout",
     "output_type": "stream",
     "text": [
      "FastText(vocab=2826, size=200, alpha=0.025)\n"
     ]
    }
   ],
   "source": [
    "print(model)"
   ]
  },
  {
   "cell_type": "code",
   "execution_count": 9,
   "metadata": {},
   "outputs": [],
   "source": [
    "# saving a model trained via Gensim's fastText implementation\n",
    "# 2019/03/05: the model might be too big. Saving word vector only.\n",
    "# model.save('saved_model_gensim')"
   ]
  },
  {
   "cell_type": "code",
   "execution_count": 10,
   "metadata": {},
   "outputs": [],
   "source": [
    "trained_ft_vectors = model.wv\n",
    "# save vectors to file if you want to use them later\n",
    "trained_ft_vectors.save_word2vec_format('embeddings.txt', binary=False)"
   ]
  },
  {
   "cell_type": "code",
   "execution_count": 11,
   "metadata": {},
   "outputs": [
    {
     "data": {
      "text/plain": [
       "[('buttonpresssignal', 0.9999946355819702),\n",
       " ('menubutton', 0.9999945163726807),\n",
       " ('__menubutton', 0.9999942183494568),\n",
       " ('buttonpress', 0.9999940991401672),\n",
       " ('buttonreleasesignal', 0.9999937415122986),\n",
       " ('__selectionchangedsignal', 0.9999933242797852),\n",
       " ('__addbuttonclicked', 0.999993085861206),\n",
       " ('selectionchangedsignal', 0.9999930262565613),\n",
       " ('__selectionchanged', 0.9999929666519165),\n",
       " ('addbuttonclicked', 0.9999929666519165)]"
      ]
     },
     "execution_count": 11,
     "metadata": {},
     "output_type": "execute_result"
    }
   ],
   "source": [
    "# Test\n",
    "trained_ft_vectors.most_similar(\"button\", topn=10)"
   ]
  },
  {
   "cell_type": "markdown",
   "metadata": {},
   "source": [
    "## Building Document Embeddings"
   ]
  },
  {
   "cell_type": "markdown",
   "metadata": {},
   "source": [
    "1. Average over all the words;\n",
    "2. Average over the unique words in each document;\n",
    "3. [x] Weighted average of all unique words in a document"
   ]
  },
  {
   "cell_type": "code",
   "execution_count": 12,
   "metadata": {},
   "outputs": [
    {
     "data": {
      "text/plain": [
       "array([-0.42494965,  0.09168912,  0.2007297 ,  0.23383524, -0.27776867,\n",
       "       -0.1292018 , -0.3475728 ,  0.03782819,  0.29607064,  0.11542961,\n",
       "       -0.20680366,  0.15838797,  0.1562798 , -0.27328148,  0.23053621,\n",
       "        0.04101355,  0.23876522,  0.33359843, -0.10300179, -0.19574092,\n",
       "        0.47251424, -0.30474472,  0.02372519,  0.17662196,  0.12936169,\n",
       "       -0.25550768, -0.32257852,  0.14303087,  0.18635245,  0.10497522,\n",
       "       -0.49918306, -0.19945878, -0.20125861, -0.21386047,  0.10984774,\n",
       "       -0.08012322, -0.2588905 , -0.03946825,  0.04088959,  0.11942113,\n",
       "       -0.28353572, -0.07734952, -0.40091765,  0.03058645,  0.19201984,\n",
       "        0.22799787, -0.02762045,  0.13490786,  0.14143841,  0.08460612,\n",
       "       -0.02339482,  0.02143422, -0.09180233, -0.05974629,  0.2278142 ,\n",
       "        0.44051978,  0.25641173,  0.27906194, -0.07556982,  0.08890175,\n",
       "       -0.10538024, -0.48284948,  0.13223481, -0.0586512 ,  0.17563498,\n",
       "       -0.25788468,  0.10269392, -0.4170083 ,  0.07758314,  0.10487046,\n",
       "       -0.1540745 ,  0.01467442, -0.05584488, -0.0031675 ,  0.3224941 ,\n",
       "        0.09362574,  0.09696359, -0.15466976,  0.50887436, -0.13641621,\n",
       "       -0.15813567,  0.03550271, -0.20043117,  0.0726597 , -0.14738892,\n",
       "       -0.25947195, -0.11755078,  0.00411236, -0.2442839 , -0.0849063 ,\n",
       "       -0.05204024, -0.05727016, -0.18987755, -0.35300216, -0.00898336,\n",
       "        0.02719382, -0.09206252, -0.00570867, -0.11976492,  0.011595  ,\n",
       "       -0.14805296, -0.39132777,  0.54002196,  0.01959333, -0.01314033,\n",
       "       -0.08671907,  0.18723275, -0.02860901,  0.19893584,  0.48139617,\n",
       "        0.18985389, -0.1834818 , -0.18747197, -0.01842663, -0.01301506,\n",
       "        0.14816135, -0.28179792, -0.11818421, -0.17719086,  0.06534331,\n",
       "        0.03429613, -0.12058067, -0.26787403,  0.10481083, -0.08625842,\n",
       "       -0.0259005 , -0.08223439, -0.04464107, -0.20171882, -0.01730859,\n",
       "       -0.4587015 ,  0.18496905, -0.15695351,  0.24744281,  0.0675222 ,\n",
       "        0.43819964, -0.3031654 , -0.33987543, -0.28939092,  0.18854317,\n",
       "        0.5140944 , -0.22517186,  0.28733432,  0.24104643, -0.13122267,\n",
       "       -0.1686637 ,  0.13472158, -0.02976792, -0.21935286, -0.07300147,\n",
       "        0.21687923, -0.14782037,  0.18167402, -0.15066975,  0.15276502,\n",
       "        0.12961006, -0.15564667,  0.20394373,  0.5414965 ,  0.11491644,\n",
       "       -0.22618833,  0.38767824, -0.03188878, -0.4568292 ,  0.08772413,\n",
       "       -0.29204455, -0.22190537,  0.24266   , -0.0703589 ,  0.06241781,\n",
       "        0.17510162, -0.28468087,  0.56893927,  0.3843643 , -0.25565016,\n",
       "       -0.09631247,  0.01105909,  0.3566574 ,  0.17137824, -0.16850546,\n",
       "        0.10866096,  0.08924757,  0.0457929 ,  0.02916535,  0.28534392,\n",
       "        0.05818927, -0.14930469, -0.21048489,  0.34923008, -0.5304984 ,\n",
       "       -0.2970659 , -0.06534833, -0.15100382,  0.16786328,  0.04485261,\n",
       "        0.54420304, -0.16368763, -0.02545425,  0.25664762,  0.35374892],\n",
       "      dtype=float32)"
      ]
     },
     "execution_count": 12,
     "metadata": {},
     "output_type": "execute_result"
    }
   ],
   "source": [
    "trained_ft_vectors[\"ping\"]"
   ]
  },
  {
   "cell_type": "code",
   "execution_count": 13,
   "metadata": {},
   "outputs": [],
   "source": [
    "document_embeddings=np.zeros((func_size, vocab_size))\n",
    "for idx, doc in enumerate(list_function_keywords):\n",
    "    doc_vec_sum=np.zeros(vocab_size)\n",
    "    for term in doc:\n",
    "        doc_vec_sum+=trained_ft_vectors[term]\n",
    "    # [TODO]\n",
    "    document_embeddings[idx]=doc_vec_sum"
   ]
  },
  {
   "cell_type": "code",
   "execution_count": 14,
   "metadata": {},
   "outputs": [
    {
     "data": {
      "text/plain": [
       "array([-0.68765068,  0.14810513,  0.32426845,  0.3791457 , -0.45057426,\n",
       "       -0.21252298, -0.56160876,  0.06236718,  0.47689047,  0.18688078,\n",
       "       -0.33587725,  0.25544155,  0.25432747, -0.44041638,  0.37236835,\n",
       "        0.06855008,  0.38587447,  0.53741966, -0.16315433, -0.31615217,\n",
       "        0.76546419, -0.49198873,  0.04245611,  0.28367878,  0.20849012,\n",
       "       -0.41151454, -0.52255523,  0.23242894,  0.29964996,  0.17130568,\n",
       "       -0.80605513, -0.32197484, -0.32747605, -0.34827352,  0.17611656,\n",
       "       -0.13026425, -0.42065385, -0.06449596,  0.06474601,  0.19491098,\n",
       "       -0.46017744, -0.12225904, -0.6469785 ,  0.05170663,  0.30724122,\n",
       "        0.37122571, -0.04252634,  0.218674  ,  0.22875033,  0.13581955,\n",
       "       -0.03804267,  0.03394479, -0.14949341, -0.09481506,  0.36656499,\n",
       "        0.71355459,  0.4134258 ,  0.45066193, -0.1238381 ,  0.14311814,\n",
       "       -0.17100363, -0.78071624,  0.21473414, -0.09691828,  0.28427614,\n",
       "       -0.41771814,  0.16506787, -0.67654321,  0.12585035,  0.16988966,\n",
       "       -0.2488778 ,  0.02321159, -0.08887639, -0.00617059,  0.52362715,\n",
       "        0.15370717,  0.15689215, -0.24805521,  0.82377836, -0.21981595,\n",
       "       -0.25454623,  0.05904321, -0.32477562,  0.11807922, -0.24081308,\n",
       "       -0.41764273, -0.18976679,  0.01007718, -0.39444411, -0.13814446,\n",
       "       -0.08190238, -0.09272743, -0.30742384, -0.57110193, -0.0143524 ,\n",
       "        0.04152819, -0.14942314, -0.00807908, -0.19351452,  0.01785256,\n",
       "       -0.24024607, -0.63252856,  0.87128678,  0.03363886, -0.01896856,\n",
       "       -0.14041202,  0.2993185 , -0.04616042,  0.31862161,  0.77751026,\n",
       "        0.30776986, -0.29767654, -0.30338574, -0.02689598, -0.02214271,\n",
       "        0.23994059, -0.45430271, -0.19246621, -0.28655126,  0.10811283,\n",
       "        0.0548193 , -0.19705815, -0.43109547,  0.17067725, -0.13934492,\n",
       "       -0.04222053, -0.13571456, -0.07154755, -0.32588377, -0.0284783 ,\n",
       "       -0.74255544,  0.29696717, -0.25502044,  0.39618079,  0.1089992 ,\n",
       "        0.71031448, -0.49041751, -0.55048157, -0.46733202,  0.30503812,\n",
       "        0.83098975, -0.36029133,  0.46439673,  0.38950737, -0.2130167 ,\n",
       "       -0.27157748,  0.22133889, -0.05099792, -0.35167181, -0.11993431,\n",
       "        0.35036707, -0.23747183,  0.29270639, -0.24244439,  0.2507056 ,\n",
       "        0.20975887, -0.25118081,  0.33267317,  0.87604094,  0.18549546,\n",
       "       -0.36754142,  0.62642422, -0.04993752, -0.73857611,  0.14273558,\n",
       "       -0.47297178, -0.35873911,  0.39345834, -0.11129755,  0.09916363,\n",
       "        0.28293331, -0.45768505,  0.91909888,  0.62497622, -0.41363348,\n",
       "       -0.15389768,  0.0209717 ,  0.57369608,  0.2760078 , -0.27347375,\n",
       "        0.17501251,  0.14642153,  0.07565408,  0.04746423,  0.46277137,\n",
       "        0.09659233, -0.24209504, -0.33920132,  0.56666069, -0.85824841,\n",
       "       -0.48317641, -0.10702005, -0.24205429,  0.27452923,  0.07276131,\n",
       "        0.88179675, -0.26575218, -0.04280696,  0.4143585 ,  0.57048602])"
      ]
     },
     "execution_count": 14,
     "metadata": {},
     "output_type": "execute_result"
    }
   ],
   "source": [
    "document_embeddings[0]"
   ]
  },
  {
   "cell_type": "code",
   "execution_count": 15,
   "metadata": {},
   "outputs": [
    {
     "name": "stdout",
     "output_type": "stream",
     "text": [
      "1038 documents with 200 dimentions\n"
     ]
    }
   ],
   "source": [
    "print(\"{} documents with {} dimentions\".format(document_embeddings.shape[0], document_embeddings.shape[1]))"
   ]
  },
  {
   "cell_type": "markdown",
   "metadata": {},
   "source": [
    "## Evaluate Model"
   ]
  },
  {
   "cell_type": "code",
   "execution_count": null,
   "metadata": {},
   "outputs": [],
   "source": []
  },
  {
   "cell_type": "markdown",
   "metadata": {},
   "source": [
    "# Notes"
   ]
  },
  {
   "cell_type": "markdown",
   "metadata": {},
   "source": [
    "# Questions\n",
    "The paper mentions 2 evaluation approach: 1 uses Github only, the other one uses both GitHub and StackOverflow. I'm guessing the former one is for tuning in the development stage; while the later is the final evaluation for the completed system (NCS)."
   ]
  },
  {
   "cell_type": "code",
   "execution_count": null,
   "metadata": {},
   "outputs": [],
   "source": []
  }
 ],
 "metadata": {
  "kernelspec": {
   "display_name": "Python 3",
   "language": "python",
   "name": "python3"
  },
  "language_info": {
   "codemirror_mode": {
    "name": "ipython",
    "version": 3
   },
   "file_extension": ".py",
   "mimetype": "text/x-python",
   "name": "python",
   "nbconvert_exporter": "python",
   "pygments_lexer": "ipython3",
   "version": "3.6.5"
  }
 },
 "nbformat": 4,
 "nbformat_minor": 2
}
