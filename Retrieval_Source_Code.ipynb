{
 "cells": [
  {
   "cell_type": "markdown",
   "metadata": {},
   "source": [
    "# Data"
   ]
  },
  {
   "cell_type": "markdown",
   "metadata": {},
   "source": [
    "[150k Python Dataset](https://eth-sri.github.io/py150) from SRILAB."
   ]
  },
  {
   "cell_type": "markdown",
   "metadata": {},
   "source": [
    "# Code representation"
   ]
  },
  {
   "cell_type": "markdown",
   "metadata": {},
   "source": [
    "A continuous vector embedding of each code fragment at method–level granularity as \"document\".[13] FastText, a variation of Word2Vec algorithm.\n",
    "- Extracting Information from Source Code\n",
    "    - simple tokenizer: extract all words from source code by removing non–alphanumeric tokens.=> indifferenciable\n",
    "    - parser-based approach: traverse through the parse tree for each method, and extract information from the following syntactic categories. (Java-like)\n",
    "        - method name\n",
    "        - method invocation\n",
    "        - Enums\n",
    "        - String literals\n",
    "        - comments\n",
    "        - <strike>variable name</strike>\n",
    "- Building Vector Representations\n",
    "    - <strike>simply average embeddings</strike>\n",
    "    - Weighted average of all unique words in a document=> normalized tf-idf\n",
    "- Retrieval\n",
    "    - average the vector representations of constituent words to create a document embedding for the query sentence\n",
    "    - a standard similarity search algorithm to find the document vectors with closest cosine distance. => FAISS "
   ]
  },
  {
   "cell_type": "markdown",
   "metadata": {},
   "source": [
    "# Model"
   ]
  },
  {
   "cell_type": "markdown",
   "metadata": {},
   "source": [
    "Input: natural language queries <br>\n",
    "Output: related code fragments retrieved directly from Github code corpus<br><br>\n",
    "\n",
    "Map the Input into the same vector space as the codebase, and then calculate the vector distance of them in order to get the relevant result."
   ]
  },
  {
   "cell_type": "markdown",
   "metadata": {},
   "source": [
    "# Evaluation"
   ]
  },
  {
   "cell_type": "markdown",
   "metadata": {},
   "source": [
    "Metric and choosing parameters of the model\n",
    "\n",
    "- Metric: select subsets of words from the document as simulated queries and then see if it can retrive the document, and then evaluate by the percentage of the documents that are retrieve back at top1 and top10. \n",
    "    - random benchmark test\n",
    "    - TF-IDF benchmark test => better performance\n",
    "- Parameters:\n",
    "    - embedding dimention=> 500\n",
    "    - three ways of combining word embeddings to document embeddings=> the conclusion is tf-idf better\n",
    "    - vector representation=> BM25 is better"
   ]
  },
  {
   "cell_type": "markdown",
   "metadata": {},
   "source": [
    "# Implementation"
   ]
  },
  {
   "cell_type": "code",
   "execution_count": 1,
   "metadata": {},
   "outputs": [],
   "source": [
    "import numpy as np\n",
    "import pandas as pd\n",
    "import string\n",
    "import re\n",
    "import pickle\n",
    "\n",
    "from gensim.models import FastText\n",
    "from gensim.models import KeyedVectors\n",
    "from time import time"
   ]
  },
  {
   "cell_type": "code",
   "execution_count": 2,
   "metadata": {},
   "outputs": [],
   "source": [
    "# change parameters here\n",
    "function_file_path=\"data/pickle100_list.pkl\"\n",
    "wordembedding_file_path=\"data/embeddings.txt\"\n",
    "docembedding_file_path=\"data/document_embeddings.csv\""
   ]
  },
  {
   "cell_type": "markdown",
   "metadata": {},
   "source": [
    "## Data Processing"
   ]
  },
  {
   "cell_type": "code",
   "execution_count": 3,
   "metadata": {},
   "outputs": [
    {
     "name": "stdout",
     "output_type": "stream",
     "text": [
      "Total Number of Functions in \"data/pickle100_list.pkl\": 1038\n"
     ]
    }
   ],
   "source": [
    "# load in processed file. A set of keywords for each document (source code function)\n",
    "def load_words_from_ast(file_path):\n",
    "    with open(file_path, 'rb') as f:\n",
    "        function_list = pickle.load(f)\n",
    "    unpickled_df = pd.DataFrame(function_list, columns=['data_id', 'function_name', 'docstring', 'func_call'])\n",
    "\n",
    "    func_size=len(unpickled_df)\n",
    "    print(\"Total Number of Functions in \\\"{}\\\": {}\".format(file_path, func_size))\n",
    "    return unpickled_df\n",
    "\n",
    "unpickled_df=load_words_from_ast(function_file_path)"
   ]
  },
  {
   "cell_type": "code",
   "execution_count": 4,
   "metadata": {},
   "outputs": [
    {
     "data": {
      "text/html": [
       "<div>\n",
       "<style scoped>\n",
       "    .dataframe tbody tr th:only-of-type {\n",
       "        vertical-align: middle;\n",
       "    }\n",
       "\n",
       "    .dataframe tbody tr th {\n",
       "        vertical-align: top;\n",
       "    }\n",
       "\n",
       "    .dataframe thead th {\n",
       "        text-align: right;\n",
       "    }\n",
       "</style>\n",
       "<table border=\"1\" class=\"dataframe\">\n",
       "  <thead>\n",
       "    <tr style=\"text-align: right;\">\n",
       "      <th></th>\n",
       "      <th>data_id</th>\n",
       "      <th>function_name</th>\n",
       "      <th>docstring</th>\n",
       "      <th>func_call</th>\n",
       "      <th>keep_in_codebase</th>\n",
       "    </tr>\n",
       "  </thead>\n",
       "  <tbody>\n",
       "    <tr>\n",
       "      <th>0</th>\n",
       "      <td>1</td>\n",
       "      <td>__getattribute__</td>\n",
       "      <td></td>\n",
       "      <td>__getattribute__</td>\n",
       "      <td>1</td>\n",
       "    </tr>\n",
       "    <tr>\n",
       "      <th>1</th>\n",
       "      <td>1</td>\n",
       "      <td>__setattr__</td>\n",
       "      <td></td>\n",
       "      <td>ref,__setattr__</td>\n",
       "      <td>1</td>\n",
       "    </tr>\n",
       "    <tr>\n",
       "      <th>2</th>\n",
       "      <td>2</td>\n",
       "      <td>main</td>\n",
       "      <td></td>\n",
       "      <td>setup,closing,ZmqProxy,consume_in_thread,wait</td>\n",
       "      <td>1</td>\n",
       "    </tr>\n",
       "    <tr>\n",
       "      <th>3</th>\n",
       "      <td>3</td>\n",
       "      <td>test_vpnservice_create</td>\n",
       "      <td></td>\n",
       "      <td>create_stubs,first,AndReturn,ReplayAll,vpnserv...</td>\n",
       "      <td>1</td>\n",
       "    </tr>\n",
       "    <tr>\n",
       "      <th>4</th>\n",
       "      <td>3</td>\n",
       "      <td>test_vpnservices_get</td>\n",
       "      <td></td>\n",
       "      <td>create_stubs,AndReturn,ReplayAll,vpnservices_g...</td>\n",
       "      <td>1</td>\n",
       "    </tr>\n",
       "  </tbody>\n",
       "</table>\n",
       "</div>"
      ],
      "text/plain": [
       "   data_id           function_name docstring  \\\n",
       "0        1        __getattribute__             \n",
       "1        1             __setattr__             \n",
       "2        2                    main             \n",
       "3        3  test_vpnservice_create             \n",
       "4        3    test_vpnservices_get             \n",
       "\n",
       "                                           func_call  keep_in_codebase  \n",
       "0                                   __getattribute__                 1  \n",
       "1                                    ref,__setattr__                 1  \n",
       "2      setup,closing,ZmqProxy,consume_in_thread,wait                 1  \n",
       "3  create_stubs,first,AndReturn,ReplayAll,vpnserv...                 1  \n",
       "4  create_stubs,AndReturn,ReplayAll,vpnservices_g...                 1  "
      ]
     },
     "execution_count": 4,
     "metadata": {},
     "output_type": "execute_result"
    }
   ],
   "source": [
    "# substract useless function from code base \n",
    "# 1 - keep, 0 - delete from code base\n",
    "unpickled_df['keep_in_codebase'] = np.where(((unpickled_df['func_call'] == '')|\n",
    "                                            (unpickled_df['function_name'] == '__init__')\n",
    "                                            ), 0, 1)\n",
    "unpickled_df.head()"
   ]
  },
  {
   "cell_type": "code",
   "execution_count": 5,
   "metadata": {},
   "outputs": [],
   "source": [
    "# output new function file with `keep_in_codebase` column"
   ]
  },
  {
   "cell_type": "code",
   "execution_count": 6,
   "metadata": {},
   "outputs": [],
   "source": [
    "def parse_func_name(terms):\n",
    "    \"\"\"\n",
    "    Return a list of keywords from function name\n",
    "    \"\"\"\n",
    "    result=[]\n",
    "    #1. alphanumeric and \"-\", \"_\" only\n",
    "    terms=re.sub(\"[^\\w_-]\", \" \", terms)\n",
    "    \n",
    "    #2. snake case\n",
    "    result=[term for term in terms.split(\"_\") if term!=\"\"]\n",
    "    \n",
    "    #3. camel case\n",
    "    ## https://stackoverflow.com/questions/29916065/how-to-do-camelcase-split-in-python\n",
    "    def camel_case_split(identifier):\n",
    "        matches = re.finditer('.+?(?:(?<=[a-z])(?=[A-Z])|(?<=[A-Z])(?=[A-Z][a-z])|$)', identifier)\n",
    "        return [m.group(0) for m in matches]\n",
    "    \n",
    "    result=[camel_case_split(t) for t in result]\n",
    "    \n",
    "    #flatten the result\n",
    "    #[TODO] check output\n",
    "    result=[s if isinstance(t, list) else t for t in result for s in t] \n",
    "    result=set(result)\n",
    "    # [TODO] deal with __init__\n",
    "\n",
    "    # lowercase\n",
    "    result=[t.lower() for t in result]\n",
    "    \n",
    "    return result\n",
    "\n",
    "def parse_docstring(df):\n",
    "    #[TODO]remove punctuations except for \"_\"\n",
    "    ## reference: https://stackoverflow.com/questions/265960/best-way-to-strip-punctuation-from-a-string-in-python\n",
    "    terms=df\n",
    "    regex = re.compile('[%s]' % re.escape(string.punctuation.replace(\"_\", \"\")))\n",
    "    terms=regex.sub(' ', terms)\n",
    "    return terms\n",
    "    \n",
    "def parse_func_call(terms):\n",
    "    result=[]\n",
    "    terms_list=terms.split(\",\")\n",
    "    for term in terms_list:\n",
    "        result+=parse_func_name(term)\n",
    "    return result"
   ]
  },
  {
   "cell_type": "code",
   "execution_count": 7,
   "metadata": {},
   "outputs": [],
   "source": [
    "## Parsing examples\n",
    "##parse_docstring(\"test 123, real_test.\")\n",
    "#parse_func_name(\"UnpickledDfTest\")\n",
    "#parse_func_call(\"setup,closing,ZmqProxy,consume_in_thread,wait\")"
   ]
  },
  {
   "cell_type": "code",
   "execution_count": 8,
   "metadata": {},
   "outputs": [],
   "source": [
    "#[TODO] wrap processing into pipeline\n",
    "#def parse_keywords(df):\n",
    "#    data = (\n",
    "#        data\n",
    "#        # Clean Data\n",
    "#        .pipe(parse_func_name)\n",
    "#        .pipe(fix_missing_desc)\n",
    "#        .pipe(change_lowercase_title)\n",
    "#        .pipe(change_lowercase_desc)\n",
    "#        \n",
    "#        # Transform data\n",
    "#        .pipe(select_columns, \n",
    "#              \"item_id\",\n",
    "#              \"title\",\n",
    "#              \"description\",\n",
    "#              \"deal_probability\"\n",
    "#             )\n",
    "#        .pipe(add_char_len_title)\n",
    "#        .pipe(add_char_len_desc)\n",
    "#        .pipe(add_tfidf_title)\n",
    "#        .pipe(add_tfidf_desc)\n",
    "#        #.pipe(add_keywords_desc)\n",
    "#    ) "
   ]
  },
  {
   "cell_type": "code",
   "execution_count": 9,
   "metadata": {},
   "outputs": [],
   "source": [
    "# for each function, combine all the keywords into a set\n",
    "def parse_keywords(df):\n",
    "    list_function_keywords=[]\n",
    "    for idx in range(len(df)):\n",
    "        keywords=[]\n",
    "\n",
    "        func_name=parse_func_name(unpickled_df.iloc[idx][\"function_name\"])\n",
    "        keywords+=func_name\n",
    "        \n",
    "        # [TODO] exact possible function names (snakecase or camelcase)\n",
    "        if unpickled_df.iloc[idx][\"docstring\"]:\n",
    "            docstring=unpickled_df.iloc[idx][\"docstring\"].lower().split()\n",
    "            keywords+=docstring\n",
    "\n",
    "        if unpickled_df.iloc[idx][\"func_call\"]:\n",
    "            func_invoc=parse_func_call(unpickled_df.iloc[idx][\"func_call\"])\n",
    "            keywords+=func_invoc\n",
    "\n",
    "        list_function_keywords.append(set(keywords))\n",
    "    return list_function_keywords\n",
    "\n",
    "list_function_keywords=parse_keywords(unpickled_df)"
   ]
  },
  {
   "cell_type": "code",
   "execution_count": 10,
   "metadata": {},
   "outputs": [
    {
     "data": {
      "text/plain": [
       "1038"
      ]
     },
     "execution_count": 10,
     "metadata": {},
     "output_type": "execute_result"
    }
   ],
   "source": [
    "len(list_function_keywords) #742490 for 100k"
   ]
  },
  {
   "cell_type": "markdown",
   "metadata": {},
   "source": [
    "## Building Word Embeddings"
   ]
  },
  {
   "cell_type": "code",
   "execution_count": 11,
   "metadata": {},
   "outputs": [],
   "source": [
    "# hyperparameters\n",
    "#num_list_function_keywords=742490\n",
    "vocab_size=500\n",
    "window_size=5\n",
    "min_count=1\n",
    "\n",
    "\n",
    "# other parameters defined earlier\n",
    "func_size=len(unpickled_df)"
   ]
  },
  {
   "cell_type": "code",
   "execution_count": 12,
   "metadata": {},
   "outputs": [
    {
     "name": "stdout",
     "output_type": "stream",
     "text": [
      "Run time: 1.6682569980621338 s\n"
     ]
    }
   ],
   "source": [
    "# We employ the continuous skip–gram model with a window size of 5, \n",
    "# i.e. all pairs of words within distance 5 are considered nearby words.\n",
    "st=time()\n",
    "#[TODO] tuning hyperparameters\n",
    "model = FastText(size=vocab_size, window=window_size, min_count=min_count)  # instantiate\n",
    "model.build_vocab(sentences=list_function_keywords)\n",
    "model.train(sentences=list_function_keywords, total_examples=len(list_function_keywords), epochs=10)  # train\n",
    "print(\"Run time: {} s\".format(time()-st))"
   ]
  },
  {
   "cell_type": "code",
   "execution_count": 13,
   "metadata": {},
   "outputs": [
    {
     "name": "stdout",
     "output_type": "stream",
     "text": [
      "FastText(vocab=2193, size=500, alpha=0.025)\n"
     ]
    }
   ],
   "source": [
    "print(model)"
   ]
  },
  {
   "cell_type": "code",
   "execution_count": 14,
   "metadata": {},
   "outputs": [],
   "source": [
    "# saving a model trained via Gensim's fastText implementation\n",
    "# 2019/03/05: the model might be too big. Saving word vector only.\n",
    "# model.save('saved_model_gensim')"
   ]
  },
  {
   "cell_type": "code",
   "execution_count": 15,
   "metadata": {},
   "outputs": [],
   "source": [
    "#[TODO] normalize word mebedding\n",
    "trained_ft_vectors = model.wv\n",
    "# save vectors to file if you want to use them later\n",
    "trained_ft_vectors.save_word2vec_format(wordembedding_file_path, binary=False)"
   ]
  },
  {
   "cell_type": "code",
   "execution_count": 16,
   "metadata": {},
   "outputs": [
    {
     "name": "stdout",
     "output_type": "stream",
     "text": [
      "Run time: 1.0046939849853516 s\n"
     ]
    }
   ],
   "source": [
    "# load wordembedding\n",
    "st=time()\n",
    "trained_ft_vectors = KeyedVectors.load_word2vec_format(wordembedding_file_path)\n",
    "print(\"Run time: {} s\".format(time()-st))"
   ]
  },
  {
   "cell_type": "code",
   "execution_count": 17,
   "metadata": {},
   "outputs": [
    {
     "data": {
      "text/plain": [
       "[('popitemlist', 0.9999936819076538),\n",
       " ('poplist', 0.9999935030937195),\n",
       " ('popitem', 0.9999934434890747),\n",
       " ('profileconnectionv3', 0.9999931454658508),\n",
       " ('formatted', 0.999993085861206),\n",
       " ('serverhardwaretypeuri:', 0.9999929666519165),\n",
       " ('res', 0.9999929666519165),\n",
       " ('profileconnectionv4', 0.9999929666519165),\n",
       " ('serverprofiledescription:', 0.9999929666519165),\n",
       " ('serverhardwaretypeuri', 0.9999929666519165)]"
      ]
     },
     "execution_count": 17,
     "metadata": {},
     "output_type": "execute_result"
    }
   ],
   "source": [
    "# Test\n",
    "trained_ft_vectors.most_similar(\"pop\", topn=10)"
   ]
  },
  {
   "cell_type": "markdown",
   "metadata": {},
   "source": [
    "## Building Document Embeddings"
   ]
  },
  {
   "cell_type": "markdown",
   "metadata": {},
   "source": [
    "1. Average over all the words;\n",
    "2. Average over the unique words in each document;\n",
    "3. [x] Weighted average of all unique words in a document"
   ]
  },
  {
   "cell_type": "code",
   "execution_count": 18,
   "metadata": {},
   "outputs": [
    {
     "data": {
      "text/plain": [
       "array([-6.25856370e-02, -5.55267222e-02, -7.85330608e-02, -3.93048376e-02,\n",
       "       -4.29004878e-02, -3.79858464e-02,  1.42647758e-01, -1.74224690e-01,\n",
       "       -8.96555465e-03,  3.22859317e-01, -6.30123094e-02,  2.95341253e-01,\n",
       "        4.56187874e-02, -2.16565847e-01,  1.87134832e-01, -1.82485044e-01,\n",
       "       -2.77954359e-02,  2.66234815e-01, -2.45725200e-01, -1.53831780e-01,\n",
       "       -5.41035794e-02,  1.04464404e-01,  1.26882985e-01, -7.77364671e-02,\n",
       "        1.23624302e-01, -1.39036879e-01,  3.21845189e-02,  1.37269631e-01,\n",
       "       -9.99649465e-02, -4.16537654e-03, -7.15402663e-02,  3.87921780e-02,\n",
       "       -2.34017938e-01,  4.73021120e-02,  4.31040108e-01, -4.36112620e-02,\n",
       "       -1.29100844e-01,  1.07720375e-01, -2.80036390e-01,  1.29020929e-01,\n",
       "        8.93684402e-02, -1.88718773e-02,  3.14803213e-01,  2.48088613e-02,\n",
       "       -2.70498693e-02,  4.17367332e-02, -1.13380343e-01,  9.18267220e-02,\n",
       "        2.16031186e-02, -2.33349949e-01,  7.70558640e-02,  1.41062737e-01,\n",
       "        1.37658939e-01,  3.54753085e-03, -1.60996988e-02,  1.21703126e-01,\n",
       "       -2.60531306e-02, -1.31382659e-01, -9.70474780e-02,  3.90567869e-01,\n",
       "       -2.27236852e-01, -7.72947297e-02,  9.38924327e-02,  3.06913733e-01,\n",
       "        1.59366593e-01,  1.43162414e-01, -4.12440076e-02, -1.26868919e-01,\n",
       "        2.22667474e-02, -1.96810305e-01, -5.29175065e-02,  2.83278137e-01,\n",
       "       -8.44956711e-02,  1.61525935e-01, -1.91433445e-01, -5.32906473e-01,\n",
       "        1.89861521e-01, -3.57750833e-01, -3.49612720e-02, -4.99565601e-02,\n",
       "        5.06925046e-01,  1.00798182e-01, -2.02618897e-01, -1.03146724e-01,\n",
       "       -2.36878008e-01, -2.35661417e-01,  3.60251293e-02, -1.16568066e-01,\n",
       "       -1.24750689e-01, -5.19149676e-02, -2.53432691e-01, -2.16439664e-01,\n",
       "        3.47278982e-01,  1.04584239e-01,  2.69391268e-01,  3.12694944e-02,\n",
       "       -8.34645927e-02, -2.64855832e-01, -5.99828623e-02,  1.27808705e-01,\n",
       "       -5.86060481e-03,  4.62468974e-02, -8.27152096e-03,  1.20130040e-01,\n",
       "       -3.07730236e-03,  2.33412310e-01, -5.63119687e-02,  1.11185603e-01,\n",
       "        1.36721402e-01, -2.05213487e-01, -1.53506935e-01,  4.00234424e-02,\n",
       "        1.86723575e-01, -5.90389930e-02, -1.22032873e-01, -1.44777998e-01,\n",
       "       -2.33898699e-01, -1.36560807e-02,  1.01205133e-01,  2.15549394e-03,\n",
       "        1.04147911e-01, -4.61504459e-02,  2.35203445e-01, -4.09776717e-02,\n",
       "        3.28112006e-01,  2.13411860e-02, -3.29597555e-02,  2.88315061e-02,\n",
       "        1.78828597e-01,  4.42080460e-02, -2.54080892e-01,  4.86032702e-02,\n",
       "        3.51067603e-01,  3.27357024e-01,  8.40366483e-02,  8.46002996e-02,\n",
       "       -2.50282794e-01,  1.38203755e-01, -7.96721801e-02, -9.48215649e-02,\n",
       "       -1.49022102e-01, -5.78315407e-02, -1.43741101e-01, -3.14206094e-01,\n",
       "        1.00298055e-01,  1.97308529e-02, -5.03108501e-02, -5.20702600e-02,\n",
       "       -2.91847140e-01,  3.83218727e-03, -3.50056678e-01, -1.82746306e-01,\n",
       "       -1.97155654e-01,  2.01445758e-01,  1.38495982e-01, -2.90531129e-01,\n",
       "        1.80139557e-01, -1.18890739e-05, -5.78025468e-02,  1.22214314e-02,\n",
       "        6.54255375e-02,  2.96963621e-02, -9.22763124e-02, -1.75362155e-02,\n",
       "       -1.12767303e-02, -7.41593763e-02,  4.57096584e-02, -4.36876155e-02,\n",
       "        1.59570932e-01,  3.48077387e-01,  8.31166282e-02, -8.76296833e-02,\n",
       "        4.82990630e-02, -1.04755247e-02,  2.95052946e-01, -1.75553352e-01,\n",
       "        5.59058739e-03,  2.28518963e-01,  1.89599320e-01,  1.70653611e-01,\n",
       "       -1.32010784e-02, -1.81701943e-01, -9.51794162e-02, -1.77516520e-01,\n",
       "       -8.70468542e-02, -2.78558536e-03,  2.15811860e-02, -1.18574472e-02,\n",
       "       -1.13751419e-01, -1.97289959e-01,  3.85377556e-02, -1.81844011e-01,\n",
       "       -2.39208519e-01,  1.06189825e-01, -1.59012303e-01, -3.24157029e-01,\n",
       "       -2.02071130e-01, -2.96194285e-01,  1.54799549e-02, -1.89572185e-01,\n",
       "       -5.92155457e-02,  2.17077553e-01,  2.88890377e-02,  9.14373398e-02,\n",
       "       -8.20836127e-02, -1.75179869e-01,  2.10798264e-01,  3.70085716e-01,\n",
       "        3.93460579e-02,  1.12977736e-01,  1.77072763e-01,  2.90653020e-01,\n",
       "       -1.88036352e-01, -4.19820920e-02, -5.66963069e-02, -4.06592377e-02,\n",
       "        1.24447998e-02,  4.22745317e-01,  4.10537153e-01,  1.90608725e-01,\n",
       "        6.52979165e-02, -1.05226804e-02,  7.25798607e-02, -9.76178702e-03,\n",
       "       -8.06664154e-02, -1.31296262e-01, -2.25448743e-01, -2.56062478e-01,\n",
       "        1.45222664e-01,  2.00734004e-01, -1.43286869e-01, -3.51502337e-02,\n",
       "       -3.32938880e-02,  1.99318081e-01, -2.36690298e-01,  2.11493745e-01,\n",
       "       -7.40951002e-02, -9.98038948e-02, -7.60187879e-02, -5.25936224e-02,\n",
       "       -1.33828893e-01, -3.30612548e-02,  2.85509080e-01, -9.00881290e-02,\n",
       "       -1.07374124e-01,  3.81808588e-03, -1.71640247e-01,  3.88052553e-01,\n",
       "        1.55556828e-01,  1.67778686e-01, -1.62180349e-01,  5.70857108e-01,\n",
       "        3.06076378e-01, -2.73873866e-01,  9.20784250e-02,  1.74741089e-01,\n",
       "        2.65075266e-01, -1.62302539e-01,  2.02941522e-01, -4.78747941e-04,\n",
       "        3.31955403e-02,  3.23999435e-01, -3.64013016e-03, -1.38083085e-01,\n",
       "        2.10502431e-01, -1.37988567e-01, -4.30753566e-02,  7.01705143e-02,\n",
       "       -2.22167864e-01,  3.91372815e-02, -5.42495012e-01,  1.56478018e-01,\n",
       "        9.14529141e-04,  2.74307758e-01, -2.36964241e-01,  1.70821384e-01,\n",
       "        8.35217610e-02, -2.58789510e-01, -1.04407743e-01, -2.38251984e-01,\n",
       "        1.04546778e-01,  6.34824038e-02, -3.48800421e-01, -8.79597664e-02,\n",
       "       -1.23996139e-01, -1.44442409e-01,  2.71642715e-01, -4.57763635e-02,\n",
       "        2.49221310e-01,  5.67361750e-02, -8.74395482e-03, -5.45892008e-02,\n",
       "       -7.94457421e-02,  4.75989934e-03,  2.01368287e-01, -1.16450724e-03,\n",
       "        2.65037417e-01,  8.22416022e-02, -1.89115062e-01, -2.66055763e-01,\n",
       "        1.29163563e-02, -6.03968985e-02,  2.99307704e-01,  2.48219725e-02,\n",
       "       -8.48231092e-02,  4.41471964e-01,  9.75516364e-02, -2.28135973e-01,\n",
       "        1.14140965e-01, -7.66203366e-03,  2.98759460e-01, -1.01387747e-01,\n",
       "        5.28880581e-02,  5.88702783e-02,  1.65602461e-01, -6.09261589e-03,\n",
       "        1.91008806e-01,  6.54533356e-02, -1.62144482e-01, -2.03689352e-01,\n",
       "       -6.79354444e-02,  1.40188366e-01, -3.16972076e-03, -3.56303006e-01,\n",
       "        3.57965589e-01,  1.64587751e-01,  5.86290918e-02, -1.72525257e-01,\n",
       "       -2.23903656e-01, -9.92643386e-02, -1.43530980e-01, -8.86896923e-02,\n",
       "       -1.77750364e-01, -1.48163512e-01,  6.49495572e-02,  1.94586083e-01,\n",
       "       -1.46969497e-01,  1.24122880e-01, -7.19834045e-02,  3.45414162e-01,\n",
       "        3.16287488e-01,  1.88689098e-01,  2.56575584e-01,  1.21268958e-01,\n",
       "        1.54162779e-01, -1.77218199e-01,  5.77210076e-02, -1.21473884e-02,\n",
       "       -6.88322484e-02,  1.12563826e-01, -9.32200849e-02, -1.48260355e-01,\n",
       "        1.63074791e-01,  1.92653745e-01,  1.53775457e-02, -1.08639188e-01,\n",
       "        7.25855725e-03,  8.15411136e-02,  9.69194844e-02, -3.19107287e-02,\n",
       "        3.24391797e-02, -2.61282742e-01,  1.52313948e-01, -4.81020845e-02,\n",
       "       -3.13538194e-01, -2.02645846e-02,  2.14808449e-01,  2.30087578e-01,\n",
       "        6.99888030e-03, -1.69360533e-01, -1.32581770e-01,  1.10820502e-01,\n",
       "       -1.41485840e-01, -1.38320386e-01,  1.02268932e-02,  3.49593051e-02,\n",
       "       -1.35412529e-01, -2.19890118e-01,  2.80811032e-03, -1.46944776e-01,\n",
       "       -9.15071666e-02,  1.78368315e-01,  2.83136368e-02, -1.04611665e-01,\n",
       "        9.75328162e-02, -4.85162646e-01,  1.26311913e-01,  8.34443942e-02,\n",
       "        3.15368533e-01,  2.69181430e-01, -1.07611939e-01, -3.68257225e-01,\n",
       "       -8.31554234e-02, -3.35864305e-01, -2.37271413e-02,  2.68767744e-01,\n",
       "        2.62361318e-01, -7.00107142e-02, -3.04533660e-01,  3.40675652e-01,\n",
       "        1.94728464e-01,  6.21740194e-03,  2.15707701e-02,  3.92861187e-01,\n",
       "       -2.17932522e-01,  2.27439448e-01, -1.49440750e-01, -1.33996189e-01,\n",
       "       -1.42613783e-01,  1.53872401e-01, -2.79133439e-01,  3.93163506e-03,\n",
       "       -8.22330192e-02, -2.85597295e-01,  2.44762912e-01,  2.56830733e-03,\n",
       "        6.66582286e-02,  1.87619492e-01, -5.06356619e-02,  1.10585719e-01,\n",
       "        1.81353077e-01,  6.38825372e-02, -3.05799276e-01, -4.12128538e-01,\n",
       "        1.58128455e-01, -2.17639774e-01, -1.43927708e-01,  2.51320332e-01,\n",
       "       -8.40384886e-02, -1.42493963e-01,  3.21731791e-02,  1.90972805e-01,\n",
       "        1.08099848e-01,  4.81515564e-02,  4.21500117e-01, -3.47480178e-02,\n",
       "        1.98805526e-01, -8.25858042e-02, -4.68369899e-03, -1.22156113e-01,\n",
       "        1.93967149e-01, -9.17856302e-03, -7.21363053e-02,  8.68555065e-03,\n",
       "       -2.37465367e-01, -1.78789869e-01, -1.98071703e-01,  1.48851290e-01,\n",
       "       -2.13744164e-01,  4.71882448e-02,  5.62786683e-02,  1.59915790e-01,\n",
       "       -2.54266318e-02,  4.88906726e-02, -4.89789695e-02, -1.73209801e-01,\n",
       "        1.05043486e-01, -1.56872287e-01, -1.12247325e-01, -3.18710983e-01,\n",
       "       -2.01123469e-02, -3.24571356e-02,  1.17085770e-01, -3.53256217e-03,\n",
       "       -1.22076318e-01, -9.58294421e-02,  7.23581910e-02, -1.82950541e-01,\n",
       "        1.56832356e-02,  1.11500233e-01, -9.94382873e-02,  1.15434177e-01,\n",
       "        1.35334671e-01,  1.97490724e-03,  4.01363939e-01, -6.05492014e-03,\n",
       "        6.37685182e-03, -2.59336919e-01,  1.97856769e-01, -4.44211662e-02,\n",
       "       -3.07168126e-01,  2.30142295e-01,  6.96899146e-02, -1.50940999e-01,\n",
       "        4.06971186e-01, -4.01978225e-01,  1.83862064e-03,  1.35550603e-01,\n",
       "       -1.06172830e-01,  1.49408281e-01,  5.74715286e-02,  2.25525856e-01,\n",
       "       -1.12454847e-01, -4.31714393e-02, -1.57655746e-01,  1.65231645e-01,\n",
       "       -3.58264625e-01,  7.25696012e-02, -1.02765083e-01, -1.00142069e-01],\n",
       "      dtype=float32)"
      ]
     },
     "execution_count": 18,
     "metadata": {},
     "output_type": "execute_result"
    }
   ],
   "source": [
    "trained_ft_vectors[\"ping\"]"
   ]
  },
  {
   "cell_type": "code",
   "execution_count": 19,
   "metadata": {},
   "outputs": [
    {
     "name": "stdout",
     "output_type": "stream",
     "text": [
      "Run time: 1.3863921165466309 s\n"
     ]
    }
   ],
   "source": [
    "def gen_doc_embedding(df, trained_ft_vectors):\n",
    "    document_embeddings=np.zeros((func_size, vocab_size))\n",
    "    for idx in range(len(df)):\n",
    "        if df.iloc[idx][\"keep_in_codebase\"]==1:\n",
    "            keywords=[]\n",
    "\n",
    "            func_name=parse_func_name(df.iloc[idx][\"function_name\"])\n",
    "            keywords+=func_name\n",
    "\n",
    "            if df.iloc[idx][\"docstring\"]:\n",
    "                docstring=df.iloc[idx][\"docstring\"].lower().split()\n",
    "                keywords+=docstring\n",
    "\n",
    "            if df.iloc[idx][\"func_call\"]:\n",
    "                func_invoc=parse_func_call(df.iloc[idx][\"func_call\"])\n",
    "                keywords+=func_invoc\n",
    "            \n",
    "            set_keywords=set(keywords)\n",
    "            doc_vec_sum=np.zeros(vocab_size)\n",
    "            for term in set_keywords:\n",
    "                doc_vec_sum+=trained_ft_vectors[term]\n",
    "            document_embeddings[idx]=doc_vec_sum/len(set_keywords)\n",
    "        else:\n",
    "            continue\n",
    "    return document_embeddings    \n",
    " \n",
    "st=time()\n",
    "document_embeddings=gen_doc_embedding(unpickled_df, trained_ft_vectors)\n",
    "\n",
    "# save the whole document_embeddings\n",
    "np.savetxt(docembedding_file_path, document_embeddings, delimiter=\",\")\n",
    "print(\"Run time: {} s\".format(time()-st))"
   ]
  },
  {
   "cell_type": "code",
   "execution_count": 20,
   "metadata": {},
   "outputs": [
    {
     "data": {
      "text/plain": [
       "array([-3.66801880e-02, -3.21855582e-02, -4.59765755e-02, -2.35858317e-02,\n",
       "       -2.45559718e-02, -2.24505942e-02,  8.43747035e-02, -1.02493078e-01,\n",
       "       -5.15302084e-03,  1.90111786e-01, -3.72895114e-02,  1.73853204e-01,\n",
       "        2.66733337e-02, -1.27457857e-01,  1.10210687e-01, -1.07288539e-01,\n",
       "       -1.63457636e-02,  1.57116175e-01, -1.45147130e-01, -9.02184844e-02,\n",
       "       -3.14268246e-02,  6.15113713e-02,  7.45549425e-02, -4.58974466e-02,\n",
       "        7.30959624e-02, -8.18264559e-02,  1.86812934e-02,  8.09102580e-02,\n",
       "       -5.87484464e-02, -2.88770651e-03, -4.22209315e-02,  2.24082600e-02,\n",
       "       -1.37350544e-01,  2.78440081e-02,  2.54560262e-01, -2.57833675e-02,\n",
       "       -7.63532147e-02,  6.34653047e-02, -1.64957941e-01,  7.54120201e-02,\n",
       "        5.25249094e-02, -1.04196491e-02,  1.85203046e-01,  1.43219084e-02,\n",
       "       -1.51749421e-02,  2.44742054e-02, -6.67797551e-02,  5.35738915e-02,\n",
       "        1.28637813e-02, -1.37296230e-01,  4.48314771e-02,  8.30411613e-02,\n",
       "        8.13265145e-02,  1.88106124e-03, -9.24841594e-03,  7.13606626e-02,\n",
       "       -1.47993444e-02, -7.81156942e-02, -5.69755100e-02,  2.30032429e-01,\n",
       "       -1.33908316e-01, -4.55070063e-02,  5.54229878e-02,  1.80729270e-01,\n",
       "        9.42191556e-02,  8.37958977e-02, -2.46402100e-02, -7.45368078e-02,\n",
       "        1.29551440e-02, -1.15915120e-01, -3.08981892e-02,  1.67149305e-01,\n",
       "       -4.99701500e-02,  9.56089646e-02, -1.12554282e-01, -3.14389795e-01,\n",
       "        1.11958750e-01, -2.10775375e-01, -2.05900278e-02, -2.97741871e-02,\n",
       "        2.98428297e-01,  5.93463033e-02, -1.19560018e-01, -6.10304438e-02,\n",
       "       -1.39483556e-01, -1.38726488e-01,  2.08646823e-02, -6.84699789e-02,\n",
       "       -7.29477480e-02, -3.07609644e-02, -1.50013581e-01, -1.27666324e-01,\n",
       "        2.04821691e-01,  6.10335805e-02,  1.58507288e-01,  1.89926215e-02,\n",
       "       -4.93654981e-02, -1.55927032e-01, -3.58570181e-02,  7.55124167e-02,\n",
       "       -3.58875189e-03,  2.73789503e-02, -4.85161413e-03,  7.07998872e-02,\n",
       "       -1.69730920e-03,  1.37967050e-01, -3.27850021e-02,  6.54281005e-02,\n",
       "        8.07101205e-02, -1.20814979e-01, -9.06020999e-02,  2.34536212e-02,\n",
       "        1.10253714e-01, -3.44017968e-02, -7.18398392e-02, -8.50209072e-02,\n",
       "       -1.37735307e-01, -7.96242245e-03,  5.98063469e-02,  1.37339788e-03,\n",
       "        6.09933548e-02, -2.71119513e-02,  1.37990966e-01, -2.43315529e-02,\n",
       "        1.93716004e-01,  1.28212739e-02, -1.91019010e-02,  1.74202789e-02,\n",
       "        1.06038347e-01,  2.59339362e-02, -1.49970755e-01,  2.88627930e-02,\n",
       "        2.06397966e-01,  1.92780986e-01,  4.99329604e-02,  4.99076135e-02,\n",
       "       -1.47039816e-01,  8.10723603e-02, -4.68280464e-02, -5.58628477e-02,\n",
       "       -8.80019069e-02, -3.47108468e-02, -8.43438804e-02, -1.85480922e-01,\n",
       "        5.90696596e-02,  1.19312825e-02, -2.97012553e-02, -3.09607014e-02,\n",
       "       -1.72180444e-01,  2.14365334e-03, -2.06284583e-01, -1.07399493e-01,\n",
       "       -1.16398744e-01,  1.18505485e-01,  8.17368180e-02, -1.70517072e-01,\n",
       "        1.05938531e-01,  4.18216776e-04, -3.40891331e-02,  6.88428385e-03,\n",
       "        3.86390463e-02,  1.74732879e-02, -5.41583896e-02, -1.00498758e-02,\n",
       "       -6.64144196e-03, -4.38169017e-02,  2.65565310e-02, -2.54411455e-02,\n",
       "        9.36983600e-02,  2.05528125e-01,  4.88589518e-02, -5.08307926e-02,\n",
       "        2.84968112e-02, -6.44901395e-03,  1.74284443e-01, -1.03460401e-01,\n",
       "        3.02703027e-03,  1.35070860e-01,  1.12148128e-01,  1.00602575e-01,\n",
       "       -8.31941795e-03, -1.06636845e-01, -5.61370291e-02, -1.04001142e-01,\n",
       "       -5.10119125e-02, -2.11558514e-03,  1.22618759e-02, -6.94763521e-03,\n",
       "       -6.73149452e-02, -1.16454057e-01,  2.30837315e-02, -1.07030578e-01,\n",
       "       -1.41356930e-01,  6.23957440e-02, -9.36006531e-02, -1.91351578e-01,\n",
       "       -1.18999951e-01, -1.74972996e-01,  8.79544858e-03, -1.11773960e-01,\n",
       "       -3.46992612e-02,  1.27331436e-01,  1.68463681e-02,  5.40490821e-02,\n",
       "       -4.83113118e-02, -1.03165813e-01,  1.24325849e-01,  2.18030214e-01,\n",
       "        2.35241260e-02,  6.66546896e-02,  1.04836576e-01,  1.71381637e-01,\n",
       "       -1.10710122e-01, -2.49109250e-02, -3.34554091e-02, -2.37801708e-02,\n",
       "        6.92519732e-03,  2.49099776e-01,  2.41899446e-01,  1.12008564e-01,\n",
       "        3.80817875e-02, -6.06169971e-03,  4.25777510e-02, -5.69369365e-03,\n",
       "       -4.79433797e-02, -7.74054304e-02, -1.33104652e-01, -1.50917992e-01,\n",
       "        8.56129602e-02,  1.17887817e-01, -8.44154656e-02, -2.11883970e-02,\n",
       "       -1.94873437e-02,  1.17578119e-01, -1.39464960e-01,  1.24401368e-01,\n",
       "       -4.27891724e-02, -5.88968359e-02, -4.45935652e-02, -3.15055847e-02,\n",
       "       -7.89854527e-02, -1.95101351e-02,  1.68783605e-01, -5.34593388e-02,\n",
       "       -6.37548044e-02,  2.60653184e-03, -1.00884140e-01,  2.28389114e-01,\n",
       "        9.15409997e-02,  9.86133739e-02, -9.58176330e-02,  3.36147219e-01,\n",
       "        1.80485398e-01, -1.61643028e-01,  5.43017387e-02,  1.03073485e-01,\n",
       "        1.56282976e-01, -9.55928862e-02,  1.19619280e-01, -3.61594401e-04,\n",
       "        1.95943937e-02,  1.90800384e-01, -2.47415085e-03, -8.10584724e-02,\n",
       "        1.23988330e-01, -8.16288441e-02, -2.47176252e-02,  4.16623391e-02,\n",
       "       -1.30835369e-01,  2.32704245e-02, -3.19082022e-01,  9.28240642e-02,\n",
       "        7.49568630e-04,  1.61351487e-01, -1.39689714e-01,  1.01136632e-01,\n",
       "        4.94923219e-02, -1.52621284e-01, -6.14738315e-02, -1.40907437e-01,\n",
       "        6.18810765e-02,  3.79420333e-02, -2.05644712e-01, -5.15833832e-02,\n",
       "       -7.32704401e-02, -8.52797329e-02,  1.60752177e-01, -2.68260539e-02,\n",
       "        1.46631375e-01,  3.35878395e-02, -5.47315646e-03, -3.19804400e-02,\n",
       "       -4.63333428e-02,  3.21566826e-03,  1.18172765e-01,  7.73503925e-05,\n",
       "        1.56409889e-01,  4.83949520e-02, -1.11203671e-01, -1.56662747e-01,\n",
       "        7.49935256e-03, -3.52711156e-02,  1.76254213e-01,  1.46898339e-02,\n",
       "       -5.03896885e-02,  2.60386318e-01,  5.70912100e-02, -1.34466872e-01,\n",
       "        6.69481233e-02, -4.76732850e-03,  1.75825223e-01, -5.99517114e-02,\n",
       "        3.14863287e-02,  3.45667303e-02,  9.72727984e-02, -3.24111804e-03,\n",
       "        1.12735018e-01,  3.89438272e-02, -9.60721001e-02, -1.19969852e-01,\n",
       "       -4.00448926e-02,  8.26854780e-02, -1.39655697e-03, -2.09577277e-01,\n",
       "        2.11266696e-01,  9.68528092e-02,  3.50275151e-02, -1.02077387e-01,\n",
       "       -1.31648839e-01, -5.88180646e-02, -8.51506367e-02, -5.18786572e-02,\n",
       "       -1.04558460e-01, -8.73032138e-02,  3.77396196e-02,  1.14396803e-01,\n",
       "       -8.69123191e-02,  7.26481676e-02, -4.21396643e-02,  2.03588888e-01,\n",
       "        1.85861006e-01,  1.11011773e-01,  1.51109755e-01,  7.15017840e-02,\n",
       "        9.08015966e-02, -1.04694366e-01,  3.36174145e-02, -7.20684417e-03,\n",
       "       -4.01069112e-02,  6.58842921e-02, -5.51234633e-02, -8.74385536e-02,\n",
       "        9.57176536e-02,  1.12640813e-01,  9.18901153e-03, -6.36084974e-02,\n",
       "        4.19409480e-03,  4.81992885e-02,  5.72995208e-02, -1.89177580e-02,\n",
       "        1.91256702e-02, -1.53840885e-01,  8.99536759e-02, -2.87908185e-02,\n",
       "       -1.84906006e-01, -1.21844523e-02,  1.26209825e-01,  1.35659322e-01,\n",
       "        4.18292591e-03, -9.92933214e-02, -7.79213980e-02,  6.49976283e-02,\n",
       "       -8.32158700e-02, -8.07755738e-02,  5.88389253e-03,  2.03980096e-02,\n",
       "       -7.98930824e-02, -1.29681736e-01,  1.74622948e-03, -8.61629844e-02,\n",
       "       -5.42099960e-02,  1.05643526e-01,  1.67884752e-02, -6.14003912e-02,\n",
       "        5.77049106e-02, -2.85783559e-01,  7.46403784e-02,  4.94271815e-02,\n",
       "        1.85914993e-01,  1.58568144e-01, -6.38602525e-02, -2.16978848e-01,\n",
       "       -4.92449924e-02, -1.98174372e-01, -1.36359865e-02,  1.57845870e-01,\n",
       "        1.54277995e-01, -4.14278060e-02, -1.78973004e-01,  2.01093584e-01,\n",
       "        1.15001857e-01,  3.98792652e-03,  1.28274951e-02,  2.31720150e-01,\n",
       "       -1.28197566e-01,  1.33691117e-01, -8.88517424e-02, -7.87326917e-02,\n",
       "       -8.33541229e-02,  9.07868817e-02, -1.64094150e-01,  1.93581067e-03,\n",
       "       -4.83617224e-02, -1.68163076e-01,  1.43865824e-01,  1.18930358e-03,\n",
       "        3.89445797e-02,  1.10221222e-01, -3.04725301e-02,  6.50695339e-02,\n",
       "        1.06180847e-01,  3.78033072e-02, -1.80347934e-01, -2.42945865e-01,\n",
       "        9.31080207e-02, -1.28761142e-01, -8.42343792e-02,  1.47673592e-01,\n",
       "       -4.95240800e-02, -8.42149481e-02,  1.91775709e-02,  1.12189129e-01,\n",
       "        6.40512258e-02,  2.80073863e-02,  2.47848466e-01, -2.04802826e-02,\n",
       "        1.16942286e-01, -4.83301729e-02, -3.10332421e-03, -7.19488338e-02,\n",
       "        1.14101402e-01, -4.86860145e-03, -4.30528708e-02,  4.84801177e-03,\n",
       "       -1.39823586e-01, -1.05526067e-01, -1.16417222e-01,  8.71576965e-02,\n",
       "       -1.26057684e-01,  2.78314482e-02,  3.32453735e-02,  9.39921215e-02,\n",
       "       -1.50815817e-02,  2.84801535e-02, -2.88561564e-02, -1.01465866e-01,\n",
       "        6.20965287e-02, -9.26344693e-02, -6.67075813e-02, -1.86877757e-01,\n",
       "       -1.16570983e-02, -1.87571403e-02,  6.93652481e-02, -2.41027121e-03,\n",
       "       -7.22592846e-02, -5.61943650e-02,  4.24710140e-02, -1.07584096e-01,\n",
       "        9.33242217e-03,  6.52350709e-02, -5.84828742e-02,  6.80086315e-02,\n",
       "        7.96837136e-02,  1.31142326e-03,  2.37408131e-01, -3.18974908e-03,\n",
       "        4.18916624e-03, -1.52721077e-01,  1.16916150e-01, -2.61516068e-02,\n",
       "       -1.80953816e-01,  1.35720313e-01,  4.07865606e-02, -8.90696570e-02,\n",
       "        2.39838198e-01, -2.37148300e-01,  8.34789884e-04,  7.94293359e-02,\n",
       "       -6.28260598e-02,  8.81178677e-02,  3.39548402e-02,  1.32851318e-01,\n",
       "       -6.64837435e-02, -2.54044142e-02, -9.28775892e-02,  9.74377692e-02,\n",
       "       -2.11204082e-01,  4.27121781e-02, -6.11957014e-02, -5.92736192e-02])"
      ]
     },
     "execution_count": 20,
     "metadata": {},
     "output_type": "execute_result"
    }
   ],
   "source": [
    "document_embeddings[0]"
   ]
  },
  {
   "cell_type": "code",
   "execution_count": 21,
   "metadata": {},
   "outputs": [
    {
     "name": "stdout",
     "output_type": "stream",
     "text": [
      "1038 documents with 500 dimentions\n"
     ]
    }
   ],
   "source": [
    "print(\"{} documents with {} dimentions\".format(document_embeddings.shape[0], document_embeddings.shape[1]))"
   ]
  },
  {
   "cell_type": "markdown",
   "metadata": {},
   "source": [
    "## Evaluate Model"
   ]
  },
  {
   "cell_type": "code",
   "execution_count": 22,
   "metadata": {},
   "outputs": [
    {
     "data": {
      "text/plain": [
       "array([-4.68079038e-02, -4.04543281e-02, -5.80844954e-02, -2.87060738e-02,\n",
       "       -3.15373875e-02, -2.84324195e-02,  1.05471179e-01, -1.28478676e-01,\n",
       "       -6.28562225e-03,  2.38256693e-01, -4.65923771e-02,  2.17354193e-01,\n",
       "        3.38355266e-02, -1.59164429e-01,  1.38680652e-01, -1.34276271e-01,\n",
       "       -2.12664790e-02,  1.97024718e-01, -1.82871431e-01, -1.13444343e-01,\n",
       "       -4.01647165e-02,  7.72339627e-02,  9.40907523e-02, -5.74264862e-02,\n",
       "        9.07003507e-02, -1.03050575e-01,  2.28626169e-02,  1.00894913e-01,\n",
       "       -7.41708502e-02, -3.23248655e-03, -5.41171655e-02,  2.81273890e-02,\n",
       "       -1.72783270e-01,  3.50187048e-02,  3.18187565e-01, -3.21109183e-02,\n",
       "       -9.54566523e-02,  7.98353478e-02, -2.06494600e-01,  9.41645727e-02,\n",
       "        6.62450865e-02, -1.30515797e-02,  2.31177941e-01,  1.79727860e-02,\n",
       "       -1.91488601e-02,  3.03185247e-02, -8.42062011e-02,  6.73439056e-02,\n",
       "        1.63530800e-02, -1.71801567e-01,  5.60964048e-02,  1.04134865e-01,\n",
       "        1.02509938e-01,  1.81927881e-03, -1.26676485e-02,  8.96184817e-02,\n",
       "       -1.87338628e-02, -9.77482274e-02, -7.13322982e-02,  2.89048433e-01,\n",
       "       -1.68201655e-01, -5.62568568e-02,  6.96523562e-02,  2.26694182e-01,\n",
       "        1.18364319e-01,  1.05150864e-01, -3.09145693e-02, -9.32758301e-02,\n",
       "        1.55542744e-02, -1.45072266e-01, -3.87668982e-02,  2.09434032e-01,\n",
       "       -6.23015873e-02,  1.18977614e-01, -1.40807778e-01, -3.93594086e-01,\n",
       "        1.40345156e-01, -2.63833314e-01, -2.60367393e-02, -3.64614390e-02,\n",
       "        3.72966617e-01,  7.42561147e-02, -1.49978533e-01, -7.68111572e-02,\n",
       "       -1.74048826e-01, -1.74025312e-01,  2.60693077e-02, -8.66061673e-02,\n",
       "       -9.09115449e-02, -3.82876024e-02, -1.87617198e-01, -1.60120368e-01,\n",
       "        2.56472796e-01,  7.75176510e-02,  1.98005334e-01,  2.28996091e-02,\n",
       "       -6.09586574e-02, -1.95575029e-01, -4.46508862e-02,  9.55638885e-02,\n",
       "       -3.91842658e-03,  3.45274583e-02, -6.04414428e-03,  8.87075663e-02,\n",
       "       -1.43103139e-03,  1.73062533e-01, -4.17079143e-02,  8.24054405e-02,\n",
       "        1.00971393e-01, -1.50795564e-01, -1.12446070e-01,  3.02769430e-02,\n",
       "        1.38641417e-01, -4.30211239e-02, -8.94218683e-02, -1.06339477e-01,\n",
       "       -1.73148468e-01, -9.82774328e-03,  7.42310807e-02,  1.50054158e-03,\n",
       "        7.66870901e-02, -3.37013863e-02,  1.72877267e-01, -3.02732121e-02,\n",
       "        2.42371425e-01,  1.62836779e-02, -2.44137347e-02,  2.16052327e-02,\n",
       "        1.32187948e-01,  3.29887830e-02, -1.88258901e-01,  3.65682431e-02,\n",
       "        2.59036422e-01,  2.42128149e-01,  6.17489740e-02,  6.19303659e-02,\n",
       "       -1.85846001e-01,  1.01060934e-01, -5.88439368e-02, -6.97389171e-02,\n",
       "       -1.10486038e-01, -4.37615439e-02, -1.06721386e-01, -2.31328219e-01,\n",
       "        7.46599659e-02,  1.42170349e-02, -3.66228521e-02, -3.89174856e-02,\n",
       "       -2.16332197e-01,  3.13054072e-03, -2.58676291e-01, -1.34037122e-01,\n",
       "       -1.46136805e-01,  1.48307055e-01,  1.03414379e-01, -2.13992849e-01,\n",
       "        1.33083746e-01, -2.77460989e-04, -4.31407169e-02,  9.39770881e-03,\n",
       "        4.91761379e-02,  2.22585779e-02, -6.84425607e-02, -1.28540536e-02,\n",
       "       -8.58184882e-03, -5.49399741e-02,  3.34291384e-02, -3.09353918e-02,\n",
       "        1.17176645e-01,  2.57003397e-01,  6.15518130e-02, -6.40059486e-02,\n",
       "        3.49263698e-02, -7.85942469e-03,  2.18460247e-01, -1.29647002e-01,\n",
       "        4.43296693e-03,  1.68880895e-01,  1.39398083e-01,  1.26368657e-01,\n",
       "       -9.76340473e-03, -1.34009510e-01, -6.96294457e-02, -1.30563229e-01,\n",
       "       -6.42071515e-02, -3.21825803e-03,  1.52254477e-02, -7.68964039e-03,\n",
       "       -8.44177008e-02, -1.46237880e-01,  2.93475892e-02, -1.34020731e-01,\n",
       "       -1.76831916e-01,  7.86638260e-02, -1.17615126e-01, -2.40058154e-01,\n",
       "       -1.48960620e-01, -2.19113782e-01,  1.06430054e-02, -1.39680937e-01,\n",
       "       -4.32352386e-02,  1.59914106e-01,  2.06381939e-02,  6.74544424e-02,\n",
       "       -6.12709001e-02, -1.29181907e-01,  1.55534536e-01,  2.72925586e-01,\n",
       "        2.87912134e-02,  8.33319351e-02,  1.31323591e-01,  2.14823887e-01,\n",
       "       -1.38585910e-01, -3.15602608e-02, -4.25440185e-02, -2.96795871e-02,\n",
       "        9.36157163e-03,  3.11586618e-01,  3.03037852e-01,  1.40224800e-01,\n",
       "        4.87694480e-02, -7.39261182e-03,  5.36470339e-02, -7.19593745e-03,\n",
       "       -6.03662133e-02, -9.55326110e-02, -1.66022256e-01, -1.89449310e-01,\n",
       "        1.07450999e-01,  1.48768380e-01, -1.04705252e-01, -2.59585772e-02,\n",
       "       -2.46956479e-02,  1.47555113e-01, -1.75176069e-01,  1.54966876e-01,\n",
       "       -5.39822541e-02, -7.26837069e-02, -5.63966557e-02, -3.87807265e-02,\n",
       "       -9.94313508e-02, -2.49261260e-02,  2.11121008e-01, -6.66594282e-02,\n",
       "       -7.95142651e-02,  2.35069776e-03, -1.26633957e-01,  2.85060346e-01,\n",
       "        1.14953436e-01,  1.24213144e-01, -1.20421328e-01,  4.21802551e-01,\n",
       "        2.26167411e-01, -2.02467516e-01,  6.76132664e-02,  1.30677104e-01,\n",
       "        1.95825741e-01, -1.19953834e-01,  1.50645360e-01, -9.48107045e-04,\n",
       "        2.44716424e-02,  2.38890693e-01, -2.50261812e-03, -1.01938970e-01,\n",
       "        1.55233830e-01, -1.01686783e-01, -3.15135941e-02,  5.19459434e-02,\n",
       "       -1.64500311e-01,  2.92912908e-02, -4.00351256e-01,  1.16381578e-01,\n",
       "        8.61226232e-04,  2.02231154e-01, -1.75540552e-01,  1.26227453e-01,\n",
       "        6.24776967e-02, -1.91383719e-01, -7.80299753e-02, -1.76754490e-01,\n",
       "        7.71500990e-02,  4.66854274e-02, -2.57723600e-01, -6.53980449e-02,\n",
       "       -9.23252627e-02, -1.06557071e-01,  2.01417908e-01, -3.36869061e-02,\n",
       "        1.84909180e-01,  4.21251021e-02, -5.89284021e-03, -3.96311320e-02,\n",
       "       -5.76124676e-02,  4.41319961e-03,  1.48343578e-01,  3.50695518e-05,\n",
       "        1.95607230e-01,  6.16307855e-02, -1.39539719e-01, -1.96612090e-01,\n",
       "        9.57977679e-03, -4.42690738e-02,  2.21356869e-01,  1.86492931e-02,\n",
       "       -6.27608076e-02,  3.26492071e-01,  7.21260160e-02, -1.68843403e-01,\n",
       "        8.43141526e-02, -5.63659146e-03,  2.20033556e-01, -7.53962472e-02,\n",
       "        3.91117930e-02,  4.35330011e-02,  1.21950857e-01, -4.00221394e-03,\n",
       "        1.41828582e-01,  4.81221080e-02, -1.20419376e-01, -1.49978548e-01,\n",
       "       -4.95296344e-02,  1.03008188e-01, -1.96554745e-03, -2.62672871e-01,\n",
       "        2.64207512e-01,  1.21291600e-01,  4.36607674e-02, -1.28115401e-01,\n",
       "       -1.64440766e-01, -7.43491799e-02, -1.07171185e-01, -6.53314665e-02,\n",
       "       -1.31131306e-01, -1.09324917e-01,  4.85703945e-02,  1.43872812e-01,\n",
       "       -1.09185882e-01,  9.17199254e-02, -5.27735874e-02,  2.53982365e-01,\n",
       "        2.32884794e-01,  1.39093891e-01,  1.89641476e-01,  8.87923911e-02,\n",
       "        1.13413393e-01, -1.31739751e-01,  4.28049341e-02, -8.56511761e-03,\n",
       "       -5.02581783e-02,  8.22196975e-02, -6.89876899e-02, -1.08940385e-01,\n",
       "        1.19994961e-01,  1.41250819e-01,  1.08735953e-02, -8.00018683e-02,\n",
       "        5.32582728e-03,  5.93933985e-02,  7.17961863e-02, -2.36373842e-02,\n",
       "        2.32858192e-02, -1.93298787e-01,  1.12721182e-01, -3.62440646e-02,\n",
       "       -2.30663389e-01, -1.53061999e-02,  1.58973217e-01,  1.70819327e-01,\n",
       "        4.51892102e-03, -1.26168892e-01, -9.78737548e-02,  8.07337016e-02,\n",
       "       -1.05473451e-01, -1.01301506e-01,  6.86192187e-03,  2.52238046e-02,\n",
       "       -9.96578112e-02, -1.63208291e-01,  2.98396358e-03, -1.08822346e-01,\n",
       "       -6.70503303e-02,  1.32131487e-01,  2.03775335e-02, -7.77140930e-02,\n",
       "        7.23445565e-02, -3.59108269e-01,  9.33508202e-02,  6.10326342e-02,\n",
       "        2.33236238e-01,  1.99459404e-01, -7.96928406e-02, -2.71751016e-01,\n",
       "       -6.26729578e-02, -2.47857288e-01, -1.79517958e-02,  1.98731169e-01,\n",
       "        1.93109900e-01, -5.15208356e-02, -2.25535959e-01,  2.51355350e-01,\n",
       "        1.44987017e-01,  4.36559366e-03,  1.50262238e-02,  2.90103763e-01,\n",
       "       -1.61393374e-01,  1.68035939e-01, -1.10692061e-01, -9.93293449e-02,\n",
       "       -1.05003968e-01,  1.13728523e-01, -2.06369981e-01,  3.09204194e-03,\n",
       "       -6.14767335e-02, -2.11077496e-01,  1.79640278e-01,  2.11309409e-03,\n",
       "        4.87566404e-02,  1.39325842e-01, -3.66952755e-02,  8.17326456e-02,\n",
       "        1.33981794e-01,  4.67756763e-02, -2.25755259e-01, -3.04888487e-01,\n",
       "        1.16383329e-01, -1.60535812e-01, -1.06233850e-01,  1.85672551e-01,\n",
       "       -6.16929419e-02, -1.06159456e-01,  2.42894422e-02,  1.39785722e-01,\n",
       "        7.93030187e-02,  3.43931206e-02,  3.10814857e-01, -2.59237774e-02,\n",
       "        1.46577001e-01, -6.01131096e-02, -3.80997057e-03, -8.98284093e-02,\n",
       "        1.43059298e-01, -7.43137160e-03, -5.36709353e-02,  6.23084093e-03,\n",
       "       -1.75100446e-01, -1.31846413e-01, -1.45810813e-01,  1.09651141e-01,\n",
       "       -1.57488212e-01,  3.35792825e-02,  4.18887623e-02,  1.18009411e-01,\n",
       "       -1.98346041e-02,  3.52116153e-02, -3.59897688e-02, -1.27103299e-01,\n",
       "        7.65733123e-02, -1.15319483e-01, -8.31570178e-02, -2.35107258e-01,\n",
       "       -1.44678224e-02, -2.34643854e-02,  8.61896053e-02, -2.31337571e-03,\n",
       "       -9.03197899e-02, -7.14181736e-02,  5.27915247e-02, -1.35488346e-01,\n",
       "        1.09612113e-02,  8.22536796e-02, -7.33162165e-02,  8.39586183e-02,\n",
       "        9.97448117e-02,  1.40808267e-03,  2.95862615e-01, -3.44642322e-03,\n",
       "        5.79877570e-03, -1.92948833e-01,  1.46208897e-01, -3.30722816e-02,\n",
       "       -2.27392912e-01,  1.70274749e-01,  5.07050417e-02, -1.12099566e-01,\n",
       "        3.00106794e-01, -2.95925677e-01,  1.55999605e-03,  1.00529119e-01,\n",
       "       -7.90812522e-02,  1.10641181e-01,  4.27037217e-02,  1.66671067e-01,\n",
       "       -8.30719545e-02, -3.09740864e-02, -1.14910670e-01,  1.21754967e-01,\n",
       "       -2.64730394e-01,  5.33407703e-02, -7.60483667e-02, -7.42629394e-02],\n",
       "      dtype=float32)"
      ]
     },
     "execution_count": 22,
     "metadata": {},
     "output_type": "execute_result"
    }
   ],
   "source": [
    "trained_ft_vectors[\"pop\"]"
   ]
  },
  {
   "cell_type": "markdown",
   "metadata": {},
   "source": [
    "# Notes"
   ]
  },
  {
   "cell_type": "markdown",
   "metadata": {},
   "source": [
    "# Questions\n",
    "The paper mentions 2 evaluation approach: 1 uses Github only, the other one uses both GitHub and StackOverflow. I'm guessing the former one is for tuning in the development stage; while the later is the final evaluation for the completed system (NCS)."
   ]
  },
  {
   "cell_type": "code",
   "execution_count": null,
   "metadata": {},
   "outputs": [],
   "source": []
  }
 ],
 "metadata": {
  "kernelspec": {
   "display_name": "Python 3",
   "language": "python",
   "name": "python3"
  },
  "language_info": {
   "codemirror_mode": {
    "name": "ipython",
    "version": 3
   },
   "file_extension": ".py",
   "mimetype": "text/x-python",
   "name": "python",
   "nbconvert_exporter": "python",
   "pygments_lexer": "ipython3",
   "version": "3.7.2"
  }
 },
 "nbformat": 4,
 "nbformat_minor": 2
}
