{
 "cells": [
  {
   "cell_type": "code",
   "execution_count": 1,
   "metadata": {},
   "outputs": [],
   "source": [
    "import pandas as pd\n",
    "import pickle"
   ]
  },
  {
   "cell_type": "markdown",
   "metadata": {},
   "source": [
    "## 1 Load Data \n",
    "\n",
    "1. function_path (Source code function) : function and docstring training data from Data_Loader.ipynb (pickle100k_list.pkl : https://drive.google.com/file/d/12J-N6d0sGuZe4Tg9voc1MoAE9ByzYQPC/view?usp=sharing\n",
    "\n",
    "\n",
    "2. SO_QA_path (Stackoverflow QA pair and result) : SO QA pair and similarity result (SO_similarity_0_100.pkl)\n",
    "3. python_code_path (Source python code) : the path list to find the original .py file (1. python100k_train.txt 2. data.tar.gz) \n",
    "(download link : https://www.sri.inf.ethz.ch/py150)\n",
    "4. print_path : the location where .py files in "
   ]
  },
  {
   "cell_type": "code",
   "execution_count": 2,
   "metadata": {},
   "outputs": [],
   "source": [
    "# data path \n",
    "function_path = './data/pickle100k_list.pkl'\n",
    "SO_QA_path = './data/SO_similarity_0_100.pkl'\n",
    "python_code_path = './data/python100k_train.txt'\n",
    "print_path = './data/' "
   ]
  },
  {
   "cell_type": "markdown",
   "metadata": {},
   "source": [
    "### Source code function"
   ]
  },
  {
   "cell_type": "code",
   "execution_count": 3,
   "metadata": {},
   "outputs": [],
   "source": [
    "# load in processed file. A set of keywords for each document (source code function)\n",
    "def load_words_from_ast(file_path):\n",
    "    with open(file_path, 'rb') as f:\n",
    "        function_list = pickle.load(f)\n",
    "    unpickled_df = pd.DataFrame(function_list, columns=['data_id', 'function_name', 'docstring', 'func_call', ])\n",
    "\n",
    "    func_size=len(unpickled_df)\n",
    "    print(\"Total Number of Functions in \\\"{}\\\": {}\".format(file_path, func_size))\n",
    "    return unpickled_df"
   ]
  },
  {
   "cell_type": "code",
   "execution_count": 4,
   "metadata": {},
   "outputs": [
    {
     "name": "stdout",
     "output_type": "stream",
     "text": [
      "Total Number of Functions in \"./data/pickle100k_list.pkl\": 742490\n"
     ]
    }
   ],
   "source": [
    "function_df=load_words_from_ast(function_path)\n",
    "# function_df.head()"
   ]
  },
  {
   "cell_type": "markdown",
   "metadata": {},
   "source": [
    "### Stackoverflow QA pair and result"
   ]
  },
  {
   "cell_type": "code",
   "execution_count": 5,
   "metadata": {},
   "outputs": [],
   "source": [
    "with open(SO_QA_path, 'rb') as f:\n",
    "    so_result = pickle.load(f)"
   ]
  },
  {
   "cell_type": "code",
   "execution_count": null,
   "metadata": {},
   "outputs": [],
   "source": [
    "#with open(SO_QA_path, 'rb') as f:\n",
    "#    so_result = pickle.load(f)\n",
    "\n",
    "#with open(SO_QA_path_2, 'rb') as f:\n",
    "#    _200_400 = pickle.load(f)\n",
    "\n",
    "# so_result = pd.concat([_0_200, _200_400])"
   ]
  },
  {
   "cell_type": "code",
   "execution_count": null,
   "metadata": {},
   "outputs": [],
   "source": [
    "# question with python tag only\n",
    "# so_result[(so_result.Tags == '<python>')|(so_result.Tags == '<python-3.x>')]"
   ]
  },
  {
   "cell_type": "code",
   "execution_count": 6,
   "metadata": {},
   "outputs": [],
   "source": [
    "with open(python_code_path) as data_file:\n",
    "    source_list = data_file.readlines()"
   ]
  },
  {
   "cell_type": "markdown",
   "metadata": {},
   "source": [
    "## 2 Search Result"
   ]
  },
  {
   "cell_type": "markdown",
   "metadata": {},
   "source": [
    "### Print match function"
   ]
  },
  {
   "cell_type": "code",
   "execution_count": 7,
   "metadata": {},
   "outputs": [],
   "source": [
    "def print_question_function(post_link_id, so_result = so_result, function_df = function_df, num_of_result = 4):\n",
    "    \n",
    "    \"\"\"\n",
    "    input the post link id and print the matched function \n",
    "    \"\"\"\n",
    "    \n",
    "    print(\"Question: \")\n",
    "    print(so_result[so_result['Post_Link_ID'] == post_link_id]['Question_Title'].iloc[0])\n",
    "    print(\"\")\n",
    "\n",
    "    \n",
    "    func_id = so_result[so_result['Post_Link_ID'] == post_link_id]['func_id']\n",
    "    \n",
    "    for i, value in enumerate(func_id.iloc[0]):\n",
    "        print(\"Result:\", i)\n",
    "        print(function_df.iloc[value])\n",
    "        print(\"\")\n",
    "        \n",
    "        if i == num_of_result:\n",
    "            break\n",
    "    "
   ]
  },
  {
   "cell_type": "markdown",
   "metadata": {},
   "source": [
    "### Print source link"
   ]
  },
  {
   "cell_type": "code",
   "execution_count": 8,
   "metadata": {},
   "outputs": [],
   "source": [
    "def print_question_source_link(post_link_id, so_result = so_result, function_df = function_df, source_list = source_list):\n",
    "    \n",
    "    \"\"\"\n",
    "    input the question id and print the source_link\n",
    "    \"\"\"\n",
    "    \n",
    "    # print(\"Question: \")\n",
    "    # print(so_result[so_result['Post Link'] == post_link_id]['Question Title'])\n",
    "    # print(\"\")\n",
    "    \n",
    "    func_id = so_result[so_result['Post_Link_ID'] == post_link_id]['func_id']\n",
    "    source_link = []\n",
    "    \n",
    "    for i, value in enumerate(func_id.iloc[0]):\n",
    "\n",
    "        # find data id \n",
    "        # print(\"Search Result: \", i)\n",
    "        data_id = function_df.iloc[value]['data_id']\n",
    "        # print(source_list[data_id])\n",
    "        source_link.append(source_list[data_id])\n",
    "        \n",
    "    return source_link\n",
    "            "
   ]
  },
  {
   "cell_type": "markdown",
   "metadata": {},
   "source": [
    "### Print .py "
   ]
  },
  {
   "cell_type": "markdown",
   "metadata": {},
   "source": [
    "Should download 'py150_files/data.tar.gz' and compress it to get all .py files \n",
    "https://www.sri.inf.ethz.ch/py150"
   ]
  },
  {
   "cell_type": "code",
   "execution_count": 9,
   "metadata": {},
   "outputs": [],
   "source": [
    "def print_full_py(source_link, idx, print_path):\n",
    "    path = print_path + source_link[idx].replace('\\n','')\n",
    "    with open(path) as data_file:\n",
    "        for r in data_file.readlines():\n",
    "            print(r)"
   ]
  },
  {
   "cell_type": "markdown",
   "metadata": {},
   "source": [
    "## ** Evaluation Here **"
   ]
  },
  {
   "cell_type": "markdown",
   "metadata": {},
   "source": [
    "Evaluation Sheet: https://docs.google.com/spreadsheets/d/1uPUaQCESrOscvA99ofU6Dl283nl7k-UEfQ71L0C7OVo/edit#gid=1968431571"
   ]
  },
  {
   "cell_type": "markdown",
   "metadata": {},
   "source": [
    "### 1. StackOverflow Q&A pairs"
   ]
  },
  {
   "cell_type": "code",
   "execution_count": null,
   "metadata": {},
   "outputs": [],
   "source": [
    "#so_result.tail()"
   ]
  },
  {
   "cell_type": "markdown",
   "metadata": {},
   "source": [
    "### 2. Enter Post Link ID  "
   ]
  },
  {
   "cell_type": "code",
   "execution_count": 10,
   "metadata": {},
   "outputs": [
    {
     "name": "stdout",
     "output_type": "stream",
     "text": [
      "Question: \n",
      "How to create a function to find numbers divisible by 7 but not by 5\n",
      "\n",
      "Result: 0\n",
      "data_id                                                      79960\n",
      "function_name                                    translate_longopt\n",
      "docstring        Convert a long option name to a valid Python i...\n",
      "func_call                                                translate\n",
      "Name: 592216, dtype: object\n",
      "\n",
      "Result: 1\n",
      "data_id                                                  42542\n",
      "function_name                                          person_\n",
      "docstring         Helper function to find a person by pe_label\n",
      "func_call                                      resource,select\n",
      "Name: 312835, dtype: object\n",
      "\n",
      "Result: 2\n",
      "data_id                                                      92437\n",
      "function_name                                        get_paginator\n",
      "docstring                 Return a paginator. Override this to ...\n",
      "func_call                              paginator_class,paginate_by\n",
      "Name: 683230, dtype: object\n",
      "\n",
      "Result: 3\n",
      "data_id                                                      49085\n",
      "function_name                                            GetAttr88\n",
      "docstring        Part of a workaround to avoid use of attribute...\n",
      "func_call                                              SetReadOnly\n",
      "Name: 361827, dtype: object\n",
      "\n",
      "Result: 4\n",
      "data_id                                                      41744\n",
      "function_name                                contains_plural_field\n",
      "docstring         Returns a boolean indicating if ``fields`` co...\n",
      "func_call           split,lstrip,get_field_by_name,ManyToManyField\n",
      "Name: 305533, dtype: object\n",
      "\n"
     ]
    }
   ],
   "source": [
    "POST_LINK_ID = 52902926\n",
    "print_question_function(POST_LINK_ID)"
   ]
  },
  {
   "cell_type": "markdown",
   "metadata": {},
   "source": [
    "Should download 'py150_files/data.tar.gz' and compress it to get all .py files \n",
    "https://www.sri.inf.ethz.ch/py150"
   ]
  },
  {
   "cell_type": "code",
   "execution_count": 11,
   "metadata": {},
   "outputs": [],
   "source": [
    "source_link = print_question_source_link(POST_LINK_ID)"
   ]
  },
  {
   "cell_type": "code",
   "execution_count": null,
   "metadata": {},
   "outputs": [],
   "source": [
    "print_full_py(source_link, 0, print_path) # from 0-9"
   ]
  },
  {
   "cell_type": "markdown",
   "metadata": {},
   "source": [
    "### 3. Stack Overflow Question Content (For Reference)"
   ]
  },
  {
   "cell_type": "code",
   "execution_count": null,
   "metadata": {},
   "outputs": [],
   "source": [
    "print(\"Question: \")\n",
    "print(so_result[so_result['Post_Link_ID'] == POST_LINK_ID]['Question_Title'].iloc[0])\n",
    "so_result[so_result['Post_Link_ID'] == POST_LINK_ID]['Question_Content'].iloc[0].split('\\n')"
   ]
  },
  {
   "cell_type": "markdown",
   "metadata": {},
   "source": [
    "### 4. Stack Overflow Best Answer (For Reference)"
   ]
  },
  {
   "cell_type": "code",
   "execution_count": null,
   "metadata": {},
   "outputs": [],
   "source": [
    "print(\"Question: \")\n",
    "print(so_result[so_result['Post_Link_ID'] == POST_LINK_ID]['Question_Title'].iloc[0])\n",
    "so_result[so_result['Post_Link_ID'] == POST_LINK_ID]['Answer'].iloc[0].split('\\n')"
   ]
  },
  {
   "cell_type": "code",
   "execution_count": null,
   "metadata": {},
   "outputs": [],
   "source": []
  }
 ],
 "metadata": {
  "kernelspec": {
   "display_name": "Python 3",
   "language": "python",
   "name": "python3"
  },
  "language_info": {
   "codemirror_mode": {
    "name": "ipython",
    "version": 3
   },
   "file_extension": ".py",
   "mimetype": "text/x-python",
   "name": "python",
   "nbconvert_exporter": "python",
   "pygments_lexer": "ipython3",
   "version": "3.6.7"
  }
 },
 "nbformat": 4,
 "nbformat_minor": 2
}
