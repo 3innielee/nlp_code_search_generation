{
 "cells": [
  {
   "cell_type": "code",
   "execution_count": 25,
   "metadata": {},
   "outputs": [],
   "source": [
    "import pandas as pd"
   ]
  },
  {
   "cell_type": "code",
   "execution_count": 26,
   "metadata": {},
   "outputs": [],
   "source": [
    "def trns(value):\n",
    "    s = value.split(\"<code>\")[1].split(\"</code>\")[0]\n",
    "    return s"
   ]
  },
  {
   "cell_type": "code",
   "execution_count": 45,
   "metadata": {},
   "outputs": [],
   "source": [
    "def get_question_answer_pair(df):\n",
    "    idx = []\n",
    "    for i in range(len(df)):\n",
    "        if df.Answer[i].count('<code>def ') == 1 and df.Answer[i].count('<code>') == 1:\n",
    "            idx.append(i)\n",
    "\n",
    "    df_qa = pd.DataFrame({\n",
    "        \"View_Count\": df.loc[idx]['ViewCount'],\n",
    "        \"Question_Title\": df.loc[idx]['Question Title'], \n",
    "        \"Answer\": df.loc[idx].Answer.apply(trns),\n",
    "        \"Tags\": df.loc[idx]['Tags']\n",
    "        })\n",
    "    return df_qa"
   ]
  },
  {
   "cell_type": "markdown",
   "metadata": {},
   "source": [
    "### Data with no filter"
   ]
  },
  {
   "cell_type": "code",
   "execution_count": 46,
   "metadata": {},
   "outputs": [
    {
     "data": {
      "text/html": [
       "<div>\n",
       "<style scoped>\n",
       "    .dataframe tbody tr th:only-of-type {\n",
       "        vertical-align: middle;\n",
       "    }\n",
       "\n",
       "    .dataframe tbody tr th {\n",
       "        vertical-align: top;\n",
       "    }\n",
       "\n",
       "    .dataframe thead th {\n",
       "        text-align: right;\n",
       "    }\n",
       "</style>\n",
       "<table border=\"1\" class=\"dataframe\">\n",
       "  <thead>\n",
       "    <tr style=\"text-align: right;\">\n",
       "      <th></th>\n",
       "      <th>Post Link</th>\n",
       "      <th>Question Score</th>\n",
       "      <th>ViewCount</th>\n",
       "      <th>Question Title</th>\n",
       "      <th>Question Content</th>\n",
       "      <th>Answer</th>\n",
       "      <th>Tags</th>\n",
       "    </tr>\n",
       "  </thead>\n",
       "  <tbody>\n",
       "    <tr>\n",
       "      <th>0</th>\n",
       "      <td>48174398</td>\n",
       "      <td>4</td>\n",
       "      <td>435</td>\n",
       "      <td>New Dataframe column as a generic function of ...</td>\n",
       "      <td>&lt;p&gt;&lt;strong&gt;What is the fastest (and most effic...</td>\n",
       "      <td>&lt;p&gt;Let's try to analyze the problem for a seco...</td>\n",
       "      <td>&lt;python&gt;&lt;pandas&gt;&lt;dataframe&gt;&lt;vectorization&gt;</td>\n",
       "    </tr>\n",
       "    <tr>\n",
       "      <th>1</th>\n",
       "      <td>48211001</td>\n",
       "      <td>0</td>\n",
       "      <td>56</td>\n",
       "      <td>Python: How to update multiple address lines</td>\n",
       "      <td>&lt;p&gt;I'm currently working on a banking system f...</td>\n",
       "      <td>&lt;p&gt;Your issue is arguably in your &lt;code&gt;update...</td>\n",
       "      <td>&lt;python&gt;</td>\n",
       "    </tr>\n",
       "    <tr>\n",
       "      <th>2</th>\n",
       "      <td>48213278</td>\n",
       "      <td>1</td>\n",
       "      <td>2389</td>\n",
       "      <td>Implementing Otsu binarization from scratch py...</td>\n",
       "      <td>&lt;p&gt;It seems my implementation is incorrect and...</td>\n",
       "      <td>&lt;p&gt;I dont know if my implementation is alright...</td>\n",
       "      <td>&lt;python&gt;&lt;python-3.x&gt;&lt;image-processing&gt;&lt;compute...</td>\n",
       "    </tr>\n",
       "    <tr>\n",
       "      <th>3</th>\n",
       "      <td>48217471</td>\n",
       "      <td>2</td>\n",
       "      <td>311</td>\n",
       "      <td>Is it possible to check for anagram without us...</td>\n",
       "      <td>&lt;p&gt;I'm currently studying and I was told not t...</td>\n",
       "      <td>&lt;p&gt;The pythonic way of answering this question...</td>\n",
       "      <td>&lt;python&gt;&lt;algorithm&gt;</td>\n",
       "    </tr>\n",
       "    <tr>\n",
       "      <th>4</th>\n",
       "      <td>48217583</td>\n",
       "      <td>1</td>\n",
       "      <td>531</td>\n",
       "      <td>Accessing attributes of user defined object le...</td>\n",
       "      <td>&lt;p&gt;I have a class called LineString that consi...</td>\n",
       "      <td>&lt;p&gt;The cause for your error is the fact that y...</td>\n",
       "      <td>&lt;python&gt;&lt;class&gt;&lt;typeerror&gt;</td>\n",
       "    </tr>\n",
       "  </tbody>\n",
       "</table>\n",
       "</div>"
      ],
      "text/plain": [
       "   Post Link  Question Score  ViewCount  \\\n",
       "0   48174398               4        435   \n",
       "1   48211001               0         56   \n",
       "2   48213278               1       2389   \n",
       "3   48217471               2        311   \n",
       "4   48217583               1        531   \n",
       "\n",
       "                                      Question Title  \\\n",
       "0  New Dataframe column as a generic function of ...   \n",
       "1       Python: How to update multiple address lines   \n",
       "2  Implementing Otsu binarization from scratch py...   \n",
       "3  Is it possible to check for anagram without us...   \n",
       "4  Accessing attributes of user defined object le...   \n",
       "\n",
       "                                    Question Content  \\\n",
       "0  <p><strong>What is the fastest (and most effic...   \n",
       "1  <p>I'm currently working on a banking system f...   \n",
       "2  <p>It seems my implementation is incorrect and...   \n",
       "3  <p>I'm currently studying and I was told not t...   \n",
       "4  <p>I have a class called LineString that consi...   \n",
       "\n",
       "                                              Answer  \\\n",
       "0  <p>Let's try to analyze the problem for a seco...   \n",
       "1  <p>Your issue is arguably in your <code>update...   \n",
       "2  <p>I dont know if my implementation is alright...   \n",
       "3  <p>The pythonic way of answering this question...   \n",
       "4  <p>The cause for your error is the fact that y...   \n",
       "\n",
       "                                                Tags  \n",
       "0         <python><pandas><dataframe><vectorization>  \n",
       "1                                           <python>  \n",
       "2  <python><python-3.x><image-processing><compute...  \n",
       "3                                <python><algorithm>  \n",
       "4                         <python><class><typeerror>  "
      ]
     },
     "execution_count": 46,
     "metadata": {},
     "output_type": "execute_result"
    }
   ],
   "source": [
    "df = pd.read_csv('QueryResults.csv')\n",
    "df.head()"
   ]
  },
  {
   "cell_type": "code",
   "execution_count": 47,
   "metadata": {},
   "outputs": [
    {
     "data": {
      "text/plain": [
       "(30510, 7)"
      ]
     },
     "execution_count": 47,
     "metadata": {},
     "output_type": "execute_result"
    }
   ],
   "source": [
    "df.shape"
   ]
  },
  {
   "cell_type": "code",
   "execution_count": 53,
   "metadata": {},
   "outputs": [
    {
     "data": {
      "text/plain": [
       "2012"
      ]
     },
     "execution_count": 53,
     "metadata": {},
     "output_type": "execute_result"
    }
   ],
   "source": [
    "df_without_filter = get_question_answer_pair(df)\n",
    "len(df_without_filter)"
   ]
  },
  {
   "cell_type": "code",
   "execution_count": 49,
   "metadata": {},
   "outputs": [
    {
     "data": {
      "text/html": [
       "<div>\n",
       "<style scoped>\n",
       "    .dataframe tbody tr th:only-of-type {\n",
       "        vertical-align: middle;\n",
       "    }\n",
       "\n",
       "    .dataframe tbody tr th {\n",
       "        vertical-align: top;\n",
       "    }\n",
       "\n",
       "    .dataframe thead th {\n",
       "        text-align: right;\n",
       "    }\n",
       "</style>\n",
       "<table border=\"1\" class=\"dataframe\">\n",
       "  <thead>\n",
       "    <tr style=\"text-align: right;\">\n",
       "      <th></th>\n",
       "      <th>View_Count</th>\n",
       "      <th>Question_Title</th>\n",
       "      <th>Answer</th>\n",
       "      <th>Tags</th>\n",
       "    </tr>\n",
       "  </thead>\n",
       "  <tbody>\n",
       "    <tr>\n",
       "      <th>2</th>\n",
       "      <td>2389</td>\n",
       "      <td>Implementing Otsu binarization from scratch py...</td>\n",
       "      <td>def otsu(gray):\\n    pixel_number = gray.shape...</td>\n",
       "      <td>&lt;python&gt;&lt;python-3.x&gt;&lt;image-processing&gt;&lt;compute...</td>\n",
       "    </tr>\n",
       "    <tr>\n",
       "      <th>8</th>\n",
       "      <td>51</td>\n",
       "      <td>Replacing elements from a string</td>\n",
       "      <td>def replace_chars(tmpStr, tmpChar):\\n    for i...</td>\n",
       "      <td>&lt;python&gt;&lt;python-3.x&gt;</td>\n",
       "    </tr>\n",
       "    <tr>\n",
       "      <th>9</th>\n",
       "      <td>243</td>\n",
       "      <td>Refreshing the page and check for text every 1...</td>\n",
       "      <td>def foo():\\n    src = driver.page_source\\n    ...</td>\n",
       "      <td>&lt;python-3.x&gt;&lt;selenium-webdriver&gt;&lt;pycharm&gt;</td>\n",
       "    </tr>\n",
       "    <tr>\n",
       "      <th>10</th>\n",
       "      <td>52</td>\n",
       "      <td>Python Tkinter loop in a loop?</td>\n",
       "      <td>def turnOn():\\n  global proc\\n   if proc is No...</td>\n",
       "      <td>&lt;python&gt;&lt;tkinter&gt;</td>\n",
       "    </tr>\n",
       "    <tr>\n",
       "      <th>25</th>\n",
       "      <td>59</td>\n",
       "      <td>Django. Comparing the model fields before savi...</td>\n",
       "      <td>def save(self, *args, **kwargs):\\n    super(De...</td>\n",
       "      <td>&lt;python&gt;&lt;django&gt;&lt;django-models&gt;</td>\n",
       "    </tr>\n",
       "  </tbody>\n",
       "</table>\n",
       "</div>"
      ],
      "text/plain": [
       "    View_Count                                     Question_Title  \\\n",
       "2         2389  Implementing Otsu binarization from scratch py...   \n",
       "8           51                   Replacing elements from a string   \n",
       "9          243  Refreshing the page and check for text every 1...   \n",
       "10          52                     Python Tkinter loop in a loop?   \n",
       "25          59  Django. Comparing the model fields before savi...   \n",
       "\n",
       "                                               Answer  \\\n",
       "2   def otsu(gray):\\n    pixel_number = gray.shape...   \n",
       "8   def replace_chars(tmpStr, tmpChar):\\n    for i...   \n",
       "9   def foo():\\n    src = driver.page_source\\n    ...   \n",
       "10  def turnOn():\\n  global proc\\n   if proc is No...   \n",
       "25  def save(self, *args, **kwargs):\\n    super(De...   \n",
       "\n",
       "                                                 Tags  \n",
       "2   <python><python-3.x><image-processing><compute...  \n",
       "8                                <python><python-3.x>  \n",
       "9           <python-3.x><selenium-webdriver><pycharm>  \n",
       "10                                  <python><tkinter>  \n",
       "25                    <python><django><django-models>  "
      ]
     },
     "execution_count": 49,
     "metadata": {},
     "output_type": "execute_result"
    }
   ],
   "source": [
    "#df_qa.sort_values(by = 'View_Count', ascending=False)\n",
    "df_without_filter.head()"
   ]
  },
  {
   "cell_type": "markdown",
   "metadata": {},
   "source": [
    "### Data with filter (Python Question Only)"
   ]
  },
  {
   "cell_type": "code",
   "execution_count": 58,
   "metadata": {},
   "outputs": [
    {
     "data": {
      "text/plain": [
       "224"
      ]
     },
     "execution_count": 58,
     "metadata": {},
     "output_type": "execute_result"
    }
   ],
   "source": [
    "#df[df['Tags'].str.contains('django|pyspark|flask|django|pandas|keras|tensorflow|pytorch|sklearn|opencv|numpy|pyqt|pygame') != True]\n",
    "df_python = df[((df['Tags'] == '<python>'))|(df['Tags'] == '<python-3.x>')].reset_index()\n",
    "df_with_filter = get_question_answer_pair(df_python)\n",
    "len(df_with_filter)"
   ]
  },
  {
   "cell_type": "code",
   "execution_count": 59,
   "metadata": {},
   "outputs": [
    {
     "data": {
      "text/html": [
       "<div>\n",
       "<style scoped>\n",
       "    .dataframe tbody tr th:only-of-type {\n",
       "        vertical-align: middle;\n",
       "    }\n",
       "\n",
       "    .dataframe tbody tr th {\n",
       "        vertical-align: top;\n",
       "    }\n",
       "\n",
       "    .dataframe thead th {\n",
       "        text-align: right;\n",
       "    }\n",
       "</style>\n",
       "<table border=\"1\" class=\"dataframe\">\n",
       "  <thead>\n",
       "    <tr style=\"text-align: right;\">\n",
       "      <th></th>\n",
       "      <th>View_Count</th>\n",
       "      <th>Question_Title</th>\n",
       "      <th>Answer</th>\n",
       "      <th>Tags</th>\n",
       "    </tr>\n",
       "  </thead>\n",
       "  <tbody>\n",
       "    <tr>\n",
       "      <th>12</th>\n",
       "      <td>43</td>\n",
       "      <td>Add to dictionary specified item</td>\n",
       "      <td>def process_user_input():\\n    valid_options =...</td>\n",
       "      <td>&lt;python&gt;</td>\n",
       "    </tr>\n",
       "    <tr>\n",
       "      <th>14</th>\n",
       "      <td>27</td>\n",
       "      <td>why my python program is printing none on next...</td>\n",
       "      <td>def rotatelist(l, k):\\n    n = len(l)\\n    if ...</td>\n",
       "      <td>&lt;python-3.x&gt;</td>\n",
       "    </tr>\n",
       "    <tr>\n",
       "      <th>24</th>\n",
       "      <td>23</td>\n",
       "      <td>python dela with variable in memory</td>\n",
       "      <td>def choice(n,s=None):\\n  if s is None:\\n      ...</td>\n",
       "      <td>&lt;python&gt;</td>\n",
       "    </tr>\n",
       "    <tr>\n",
       "      <th>33</th>\n",
       "      <td>53</td>\n",
       "      <td>The code will not run nor will it show an erro...</td>\n",
       "      <td>def main():\\n    s= \"\"\\n    phrase=\"\"\\n    pro...</td>\n",
       "      <td>&lt;python&gt;</td>\n",
       "    </tr>\n",
       "    <tr>\n",
       "      <th>50</th>\n",
       "      <td>40</td>\n",
       "      <td>Python CSV to Table in Email</td>\n",
       "      <td>def create_table():\\n    message = \"\"\\n    mes...</td>\n",
       "      <td>&lt;python&gt;</td>\n",
       "    </tr>\n",
       "  </tbody>\n",
       "</table>\n",
       "</div>"
      ],
      "text/plain": [
       "    View_Count                                     Question_Title  \\\n",
       "12          43                   Add to dictionary specified item   \n",
       "14          27  why my python program is printing none on next...   \n",
       "24          23                python dela with variable in memory   \n",
       "33          53  The code will not run nor will it show an erro...   \n",
       "50          40                       Python CSV to Table in Email   \n",
       "\n",
       "                                               Answer          Tags  \n",
       "12  def process_user_input():\\n    valid_options =...      <python>  \n",
       "14  def rotatelist(l, k):\\n    n = len(l)\\n    if ...  <python-3.x>  \n",
       "24  def choice(n,s=None):\\n  if s is None:\\n      ...      <python>  \n",
       "33  def main():\\n    s= \"\"\\n    phrase=\"\"\\n    pro...      <python>  \n",
       "50  def create_table():\\n    message = \"\"\\n    mes...      <python>  "
      ]
     },
     "execution_count": 59,
     "metadata": {},
     "output_type": "execute_result"
    }
   ],
   "source": [
    "df_with_filter.head()"
   ]
  },
  {
   "cell_type": "markdown",
   "metadata": {},
   "source": [
    "### Example"
   ]
  },
  {
   "cell_type": "code",
   "execution_count": 51,
   "metadata": {},
   "outputs": [
    {
     "data": {
      "text/plain": [
       "'Add to dictionary specified item'"
      ]
     },
     "execution_count": 51,
     "metadata": {},
     "output_type": "execute_result"
    }
   ],
   "source": [
    "# Example Question\n",
    "idx = 10\n",
    "df_with_filter.Question_Title[idx]"
   ]
  },
  {
   "cell_type": "code",
   "execution_count": 52,
   "metadata": {},
   "outputs": [
    {
     "data": {
      "text/plain": [
       "['def process_user_input():',\n",
       " \"    valid_options = {'blue':20, 'pink':12, 'red':18, 'green':10, 'black':15, 'yellow':6};\",\n",
       " '    choosen_item  = {};',\n",
       " '',\n",
       " \"    user_input = raw_input('search for a colour: ');\",\n",
       " '',\n",
       " '    for key, value in valid_options.iteritems():',\n",
       " '        if int(user_input) == value:',\n",
       " '            choosen_item[key] = value;',\n",
       " '',\n",
       " '    print(choosen_item);',\n",
       " '',\n",
       " 'process_user_input();',\n",
       " '',\n",
       " '# search for a colour:  20',\n",
       " \"# {'blue': 20}\",\n",
       " '']"
      ]
     },
     "execution_count": 52,
     "metadata": {},
     "output_type": "execute_result"
    }
   ],
   "source": [
    "# Example Answer\n",
    "df_with_filter.Answer[idx].split(\"\\n\")"
   ]
  },
  {
   "cell_type": "code",
   "execution_count": null,
   "metadata": {},
   "outputs": [],
   "source": [
    "#### SQL For StackOverFlow\n",
    "\n",
    "SELECT Posts.Id as [Post Link], \n",
    "Posts.Score as [Question Score],\n",
    "Posts.ViewCount,\n",
    "Posts.Title As [Question Title],\n",
    "Posts.Body As [Question Content],\n",
    "Answers.Body AS [Answer],\n",
    "Answers.ViewCount\n",
    "\n",
    "\n",
    "From Posts\n",
    "left join Posts As Answers \n",
    "        ON Answers.parentid = Posts.id\n",
    "        AND Answers.posttypeid = 2\n",
    "\n",
    "WHERE Posts.PostTypeId = 1 AND \n",
    "YEAR(Posts.CreationDate) BETWEEN 2018 AND 2019 AND\n",
    "Posts.AcceptedAnswerId = Answers.Id AND\n",
    "Posts.Tags LIKE '%python%' AND\n",
    "Posts.Tags NOT LIKE '%pandas%' AND\n",
    "Posts.Tags NOT LIKE '%pyspark%' AND\n",
    "Posts.Tags NOT LIKE '%flask%' AND\n",
    "Posts.Tags NOT LIKE '%django%' AND\n",
    "Posts.Tags NOT LIKE '%keras%' AND\n",
    "Posts.Tags NOT LIKE '%tensorflow%' AND\n",
    "Posts.Tags NOT LIKE '%pytorch%' AND\n",
    "Posts.Tags NOT LIKE '%sklearn%' AND\n",
    "Posts.Tags NOT LIKE '%opencv%' AND\n",
    "Posts.Tags NOT LIKE '%numpy%' AND\n",
    "Posts.Tags NOT LIKE '%pyqt%' AND\n",
    "Posts.Tags NOT LIKE '%pygame%' \n",
    "\n",
    "GROUP BY\n",
    "Posts.Id, Posts.Score, Posts.ViewCount, Posts.Title, Posts.ViewCount, Answers.Body, Posts.Body, Posts.AcceptedAnswerId, Answers.Id, Answers.ViewCount\n",
    "\n",
    "HAVING Answers.Body LIKE '%def %'\n",
    "\n"
   ]
  },
  {
   "cell_type": "code",
   "execution_count": null,
   "metadata": {},
   "outputs": [],
   "source": []
  }
 ],
 "metadata": {
  "kernelspec": {
   "display_name": "Python 3",
   "language": "python",
   "name": "python3"
  },
  "language_info": {
   "codemirror_mode": {
    "name": "ipython",
    "version": 3
   },
   "file_extension": ".py",
   "mimetype": "text/x-python",
   "name": "python",
   "nbconvert_exporter": "python",
   "pygments_lexer": "ipython3",
   "version": "3.6.7"
  }
 },
 "nbformat": 4,
 "nbformat_minor": 2
}
