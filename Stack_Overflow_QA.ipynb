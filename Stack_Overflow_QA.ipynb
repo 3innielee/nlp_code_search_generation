{
 "cells": [
  {
   "cell_type": "markdown",
   "metadata": {},
   "source": [
    "To select code search queries for the evaluation, we build a benchmark of queries from Python programming questions in Stack Overflow. \n",
    "\n",
    "The StackOverflow questions should satisfy the following conditions:\n",
    "1. Data Between **2017-01-01 to 2019-02-01**\n",
    "2. The question is a Python programming task, including any versions of Python \n",
    "3. The question score to that question is **higher than or equal to 0**\n",
    "4. The question does have a best answer\n",
    "5. The best answer to that question has **exactly one def function** answer\n",
    "6. The question is not a 'TypeError' or a 'why' question, but a 'how to' question  \n"
   ]
  },
  {
   "cell_type": "code",
   "execution_count": 1,
   "metadata": {},
   "outputs": [],
   "source": [
    "import pandas as pd"
   ]
  },
  {
   "cell_type": "code",
   "execution_count": 20,
   "metadata": {},
   "outputs": [],
   "source": [
    "def trns(value):\n",
    "    s = value.split(\"<code>\")[1].split(\"</code>\")[0]\n",
    "    return s"
   ]
  },
  {
   "cell_type": "code",
   "execution_count": 18,
   "metadata": {},
   "outputs": [],
   "source": [
    "def get_question_answer_pair(df):\n",
    "    idx = []\n",
    "    for i in range(len(df)):\n",
    "        if df['Best_Answer'][i].count('<code>def ') == 1 and df['Best_Answer'][i].count('<code>') == 1:\n",
    "            idx.append(i)\n",
    "\n",
    "    df_qa = pd.DataFrame({\n",
    "        \"Post_Link_ID\": df.loc[idx]['Post_Link_Id'],\n",
    "        \"Question_Score\": df.loc[idx]['Question_Score'],\n",
    "        \"Question_Title\": df.loc[idx]['Question_Title'], \n",
    "        \"Question_Content\": df.loc[idx]['Question_Content'],\n",
    "        \"Answer\": df.loc[idx]['Best_Answer'].apply(trns),\n",
    "        \"Tags\": df.loc[idx]['Tags']\n",
    "        })\n",
    "    \n",
    "    df_qa = df_qa[df_qa['Question_Score'] >= 0].sort_values(by = 'Question_Score', ascending=False)\n",
    "    \n",
    "    return df_qa"
   ]
  },
  {
   "cell_type": "markdown",
   "metadata": {},
   "source": [
    "### Data Processing"
   ]
  },
  {
   "cell_type": "code",
   "execution_count": 13,
   "metadata": {},
   "outputs": [
    {
     "name": "stdout",
     "output_type": "stream",
     "text": [
      "(50000, 8)\n"
     ]
    }
   ],
   "source": [
    "df = pd.read_csv('./data/QueryResults.csv')\n",
    "print(df.shape)"
   ]
  },
  {
   "cell_type": "code",
   "execution_count": 16,
   "metadata": {},
   "outputs": [],
   "source": [
    "#df['date'] = df.Create_Date.apply(lambda x: str(x).split(' ')[0])\n",
    "#df.date.unique"
   ]
  },
  {
   "cell_type": "code",
   "execution_count": 21,
   "metadata": {},
   "outputs": [
    {
     "name": "stdout",
     "output_type": "stream",
     "text": [
      "(2857, 6)\n"
     ]
    }
   ],
   "source": [
    "df = get_question_answer_pair(df)\n",
    "print(df.shape)"
   ]
  },
  {
   "cell_type": "code",
   "execution_count": 22,
   "metadata": {},
   "outputs": [
    {
     "name": "stdout",
     "output_type": "stream",
     "text": [
      "Python Only Questions: 257\n",
      "Python with Package Questions: 2600\n"
     ]
    }
   ],
   "source": [
    "print(\"Python Only Questions:\", len(df[((df['Tags'] == '<python>'))|(df['Tags'] == '<python-3.x>')]))\n",
    "print(\"Python with Package Questions:\", len(df) - len(df[((df['Tags'] == '<python>'))|(df['Tags'] == '<python-3.x>')]))"
   ]
  },
  {
   "cell_type": "code",
   "execution_count": null,
   "metadata": {},
   "outputs": [],
   "source": [
    "export_csv = df.to_csv (r'./data/StackOverFlow.csv', index = None, header=True)"
   ]
  },
  {
   "cell_type": "markdown",
   "metadata": {},
   "source": [
    "### Reference"
   ]
  },
  {
   "cell_type": "code",
   "execution_count": null,
   "metadata": {},
   "outputs": [],
   "source": [
    "# Example Question\n",
    "pid = 50253517\n",
    "str(df[df['Post_Link_ID'] == pid].Answer).split('\\n')"
   ]
  },
  {
   "cell_type": "code",
   "execution_count": null,
   "metadata": {},
   "outputs": [],
   "source": [
    "# Example Answer\n",
    "df_with_filter.Answer[idx].split(\"\\n\")"
   ]
  },
  {
   "cell_type": "code",
   "execution_count": null,
   "metadata": {},
   "outputs": [],
   "source": [
    "# SQL Code\n",
    "SELECT Posts.Id as [Post_Link_Id], \n",
    "Posts.Score as [Question_Score],\n",
    "Posts.ViewCount,\n",
    "Posts.Title As [Question_Title],\n",
    "Posts.Body As [Question_Content],\n",
    "Answers.Body AS [Best_Answer],\n",
    "Posts.Tags AS [Tags],\n",
    "Posts.CreationDate AS [Create_Date]\n",
    "\n",
    "From Posts\n",
    "left join Posts As Answers \n",
    "        ON Answers.parentid = Posts.id\n",
    "        AND Answers.posttypeid = 2\n",
    "\n",
    "WHERE Posts.PostTypeId = 1 AND \n",
    "YEAR(Posts.CreationDate) BETWEEN 2017 AND 2019 AND\n",
    "Posts.AcceptedAnswerId = Answers.Id AND\n",
    "Posts.Tags LIKE '%python%' AND\n",
    "Posts.Title NOT LIKE '%why%' AND \n",
    "Posts.Title NOT LIKE '%Why%' AND\n",
    "Posts.Title NOT LIKE '%Error%' \n",
    "\n",
    "GROUP BY\n",
    "Posts.Id, Posts.CreationDate, Posts.Score, Posts.ViewCount, Posts.Title, Posts.ViewCount, Answers.Body, Posts.Body, Posts.AcceptedAnswerId, Answers.Id, Posts.Tags\n",
    "\n",
    "HAVING Answers.Body LIKE '%def %'\n",
    "\n",
    "\n"
   ]
  },
  {
   "cell_type": "code",
   "execution_count": null,
   "metadata": {},
   "outputs": [],
   "source": []
  }
 ],
 "metadata": {
  "kernelspec": {
   "display_name": "Python 3",
   "language": "python",
   "name": "python3"
  },
  "language_info": {
   "codemirror_mode": {
    "name": "ipython",
    "version": 3
   },
   "file_extension": ".py",
   "mimetype": "text/x-python",
   "name": "python",
   "nbconvert_exporter": "python",
   "pygments_lexer": "ipython3",
   "version": "3.6.7"
  }
 },
 "nbformat": 4,
 "nbformat_minor": 2
}
