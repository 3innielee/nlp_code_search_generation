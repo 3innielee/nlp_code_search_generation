{
 "cells": [
  {
   "cell_type": "code",
   "execution_count": 1,
   "metadata": {
    "collapsed": false
   },
   "outputs": [],
   "source": [
    "import json\n",
    "import numpy as np\n",
    "import pandas as pd\n",
    "import pickle\n",
    "\n",
    "with open('./python100.json') as data_file:\n",
    "    all_data = [json.loads(r) for r in data_file.readlines()]"
   ]
  },
  {
   "cell_type": "code",
   "execution_count": 2,
   "metadata": {
    "collapsed": false
   },
   "outputs": [
    {
     "data": {
      "text/plain": [
       "100"
      ]
     },
     "execution_count": 2,
     "metadata": {},
     "output_type": "execute_result"
    }
   ],
   "source": [
    "len(all_data)"
   ]
  },
  {
   "cell_type": "code",
   "execution_count": 3,
   "metadata": {
    "collapsed": false
   },
   "outputs": [],
   "source": [
    "# input: a code source with multiple functions\n",
    "# output: a dictionary: key is the code index, value is all functions and their children idx \n",
    "# e.g. full_list[index] =  (f_info,[children_idx])\n",
    "\n",
    "def find_function_children(data):\n",
    "\n",
    "    functions = [(i,text) for i, text in enumerate(data) if text['type'] == 'FunctionDef']\n",
    "\n",
    "    full_list = {}\n",
    "    for (index, f) in functions:\n",
    "        ans = []\n",
    "        row = f['children']\n",
    "        while row:\n",
    "            for i in row:\n",
    "                ans.append(i)\n",
    "            row = [node for root in row for node in data[root].get('children',[]) if node]\n",
    "        full_list[index] =  (f,ans)\n",
    "    \n",
    "    return full_list"
   ]
  },
  {
   "cell_type": "code",
   "execution_count": 13,
   "metadata": {
    "collapsed": true
   },
   "outputs": [],
   "source": [
    "def check_child(type_name, data):\n",
    "    if data['type'] == type_name:\n",
    "        if data['children']:\n",
    "            return data['children']"
   ]
  },
  {
   "cell_type": "code",
   "execution_count": 14,
   "metadata": {
    "collapsed": true
   },
   "outputs": [],
   "source": [
    "# input: k,v in full_list,  v[1]\n",
    "# output: a string with all functions call e.g. 'create_stubs,first,AndReturn,ReplayAll,vpnservice_get,request'\n",
    "\n",
    "def find_call_func(function_list, data):\n",
    "    \n",
    "    ans = []\n",
    "    \n",
    "    for children_id in function_list:\n",
    "        if check_child('Call', data[children_id]):\n",
    "            for j in data[children_id]['children']:\n",
    "                if check_child('AttributeLoad', data[j]):\n",
    "                    for z in check_child('AttributeLoad', data[j]):\n",
    "                        if data[z]['type'] == 'attr': \n",
    "                            ans.append(data[z]['value'])\n",
    "    call_func = ','.join(ans)\n",
    "    return call_func\n",
    "    "
   ]
  },
  {
   "cell_type": "code",
   "execution_count": 5,
   "metadata": {
    "collapsed": true
   },
   "outputs": [],
   "source": [
    "# input: k,v in full_list,  v[1]\n",
    "# output: a string, the function's docstring \n",
    "def find_docstring(function_list, data):\n",
    "    \n",
    "    docstring = ''\n",
    "    \n",
    "    for children_id in function_list:\n",
    "        if data[children_id]['type'] == 'Expr':\n",
    "            if data[data[children_id]['children'][0]]['type'] == 'Str':\n",
    "                docstring = data[data[children_id]['children'][0]]['value']\n",
    "    return docstring"
   ]
  },
  {
   "cell_type": "code",
   "execution_count": 6,
   "metadata": {
    "collapsed": false
   },
   "outputs": [],
   "source": [
    "# input: code data\n",
    "# output: a tuple, (function_name, docstring, functions_call)\n",
    "\n",
    "def find_function_info(data):\n",
    "    \n",
    "    ans = []\n",
    "    full_list = find_function_children(data)\n",
    "    \n",
    "    for k, v in full_list.items():\n",
    "        docstring = find_docstring(v[1], data)\n",
    "        call_def = find_call_func(v[1], data)\n",
    "        \n",
    "        if docstring:\n",
    "            ans.append((full_list[k][0]['value'], docstring, call_def))\n",
    "        elif call_def:\n",
    "            ans.append((full_list[k][0]['value'], '', call_def))\n",
    "            \n",
    "    return ans"
   ]
  },
  {
   "cell_type": "code",
   "execution_count": 7,
   "metadata": {
    "collapsed": false
   },
   "outputs": [],
   "source": [
    "# Read data and create pandas dataframe\n",
    "function_info = []\n",
    "for i, value in enumerate(all_data):\n",
    "    func_doc = find_function_info(value)\n",
    "    if func_doc:\n",
    "        for tuples in func_doc:\n",
    "            function_info.append([i, tuples[0], tuples[1], tuples[2]])\n",
    "\n",
    "df = pd.DataFrame(np.array(function_info), columns=['data_id', 'function_name', 'docstring', 'func_call'])"
   ]
  },
  {
   "cell_type": "code",
   "execution_count": 8,
   "metadata": {
    "collapsed": false
   },
   "outputs": [
    {
     "data": {
      "text/html": [
       "<div>\n",
       "<table border=\"1\" class=\"dataframe\">\n",
       "  <thead>\n",
       "    <tr style=\"text-align: right;\">\n",
       "      <th></th>\n",
       "      <th>data_id</th>\n",
       "      <th>function_name</th>\n",
       "      <th>docstring</th>\n",
       "      <th>func_call</th>\n",
       "    </tr>\n",
       "  </thead>\n",
       "  <tbody>\n",
       "    <tr>\n",
       "      <th>0</th>\n",
       "      <td>1</td>\n",
       "      <td>__getattribute__</td>\n",
       "      <td></td>\n",
       "      <td>__getattribute__</td>\n",
       "    </tr>\n",
       "    <tr>\n",
       "      <th>1</th>\n",
       "      <td>1</td>\n",
       "      <td>__setattr__</td>\n",
       "      <td></td>\n",
       "      <td>ref,__setattr__</td>\n",
       "    </tr>\n",
       "    <tr>\n",
       "      <th>2</th>\n",
       "      <td>2</td>\n",
       "      <td>main</td>\n",
       "      <td></td>\n",
       "      <td>setup,closing,ZmqProxy,consume_in_thread,wait</td>\n",
       "    </tr>\n",
       "    <tr>\n",
       "      <th>3</th>\n",
       "      <td>3</td>\n",
       "      <td>test_vpnservice_create</td>\n",
       "      <td></td>\n",
       "      <td>create_stubs,first,AndReturn,ReplayAll,vpnserv...</td>\n",
       "    </tr>\n",
       "    <tr>\n",
       "      <th>4</th>\n",
       "      <td>3</td>\n",
       "      <td>test_vpnservices_get</td>\n",
       "      <td></td>\n",
       "      <td>create_stubs,AndReturn,ReplayAll,vpnservices_g...</td>\n",
       "    </tr>\n",
       "  </tbody>\n",
       "</table>\n",
       "</div>"
      ],
      "text/plain": [
       "  data_id           function_name docstring  \\\n",
       "0       1        __getattribute__             \n",
       "1       1             __setattr__             \n",
       "2       2                    main             \n",
       "3       3  test_vpnservice_create             \n",
       "4       3    test_vpnservices_get             \n",
       "\n",
       "                                           func_call  \n",
       "0                                   __getattribute__  \n",
       "1                                    ref,__setattr__  \n",
       "2      setup,closing,ZmqProxy,consume_in_thread,wait  \n",
       "3  create_stubs,first,AndReturn,ReplayAll,vpnserv...  \n",
       "4  create_stubs,AndReturn,ReplayAll,vpnservices_g...  "
      ]
     },
     "execution_count": 8,
     "metadata": {},
     "output_type": "execute_result"
    }
   ],
   "source": [
    "df.head()"
   ]
  },
  {
   "cell_type": "code",
   "execution_count": 9,
   "metadata": {
    "collapsed": false
   },
   "outputs": [
    {
     "data": {
      "text/html": [
       "<div>\n",
       "<table border=\"1\" class=\"dataframe\">\n",
       "  <thead>\n",
       "    <tr style=\"text-align: right;\">\n",
       "      <th></th>\n",
       "      <th>data_id</th>\n",
       "      <th>function_name</th>\n",
       "      <th>docstring</th>\n",
       "      <th>func_call</th>\n",
       "    </tr>\n",
       "  </thead>\n",
       "  <tbody>\n",
       "    <tr>\n",
       "      <th>47</th>\n",
       "      <td>8</td>\n",
       "      <td>ping</td>\n",
       "      <td>Handle ping requests</td>\n",
       "      <td>iq,refresh,iq</td>\n",
       "    </tr>\n",
       "    <tr>\n",
       "      <th>48</th>\n",
       "      <td>8</td>\n",
       "      <td>message</td>\n",
       "      <td>Proxy message from one user to another</td>\n",
       "      <td>stanza,get,get,send_msg,endswith,warn,message,...</td>\n",
       "    </tr>\n",
       "    <tr>\n",
       "      <th>57</th>\n",
       "      <td>8</td>\n",
       "      <td>presence</td>\n",
       "      <td>Presence information may be sent out from the ...</td>\n",
       "      <td>stanza,warn,recv_presence,get,get,match_bare,s...</td>\n",
       "    </tr>\n",
       "    <tr>\n",
       "      <th>60</th>\n",
       "      <td>8</td>\n",
       "      <td>roster</td>\n",
       "      <td>A roster is this account's list of contacts; i...</td>\n",
       "      <td>iq,get,get</td>\n",
       "    </tr>\n",
       "    <tr>\n",
       "      <th>63</th>\n",
       "      <td>8</td>\n",
       "      <td>push</td>\n",
       "      <td>Push roster changes to all clients that have r...</td>\n",
       "      <td>requests,routes,iq,ignore</td>\n",
       "    </tr>\n",
       "  </tbody>\n",
       "</table>\n",
       "</div>"
      ],
      "text/plain": [
       "   data_id function_name                                          docstring  \\\n",
       "47       8          ping                               Handle ping requests   \n",
       "48       8       message             Proxy message from one user to another   \n",
       "57       8      presence  Presence information may be sent out from the ...   \n",
       "60       8        roster  A roster is this account's list of contacts; i...   \n",
       "63       8          push  Push roster changes to all clients that have r...   \n",
       "\n",
       "                                            func_call  \n",
       "47                                      iq,refresh,iq  \n",
       "48  stanza,get,get,send_msg,endswith,warn,message,...  \n",
       "57  stanza,warn,recv_presence,get,get,match_bare,s...  \n",
       "60                                         iq,get,get  \n",
       "63                          requests,routes,iq,ignore  "
      ]
     },
     "execution_count": 9,
     "metadata": {},
     "output_type": "execute_result"
    }
   ],
   "source": [
    "df[df.docstring != ''].head()"
   ]
  },
  {
   "cell_type": "code",
   "execution_count": 10,
   "metadata": {
    "collapsed": false
   },
   "outputs": [
    {
     "data": {
      "text/plain": [
       "(1038, 4)"
      ]
     },
     "execution_count": 10,
     "metadata": {},
     "output_type": "execute_result"
    }
   ],
   "source": [
    "df.shape"
   ]
  },
  {
   "cell_type": "code",
   "execution_count": 12,
   "metadata": {
    "collapsed": true
   },
   "outputs": [],
   "source": [
    "# export to pickle file for further training\n",
    "df.to_pickle(\"./py100.pkl\")"
   ]
  },
  {
   "cell_type": "code",
   "execution_count": null,
   "metadata": {
    "collapsed": true
   },
   "outputs": [],
   "source": []
  }
 ],
 "metadata": {
  "kernelspec": {
   "display_name": "Python 3",
   "language": "python",
   "name": "python3"
  },
  "language_info": {
   "codemirror_mode": {
    "name": "ipython",
    "version": 3
   },
   "file_extension": ".py",
   "mimetype": "text/x-python",
   "name": "python",
   "nbconvert_exporter": "python",
   "pygments_lexer": "ipython3",
   "version": "3.6.6"
  }
 },
 "nbformat": 4,
 "nbformat_minor": 2
}
