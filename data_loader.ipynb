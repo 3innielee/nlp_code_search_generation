{
 "cells": [
  {
   "cell_type": "code",
   "execution_count": null,
   "metadata": {
    "collapsed": false
   },
   "outputs": [],
   "source": [
    "import json\n",
    "import numpy as np\n",
    "import pandas as pd\n",
    "with open('./py150/python50k_eval.json') as data_file:\n",
    "    all_data = [json.loads(r) for r in data_file.readlines()]"
   ]
  },
  {
   "cell_type": "code",
   "execution_count": null,
   "metadata": {
    "collapsed": false
   },
   "outputs": [],
   "source": [
    "len(all_data)"
   ]
  },
  {
   "cell_type": "code",
   "execution_count": 7,
   "metadata": {
    "collapsed": false
   },
   "outputs": [],
   "source": [
    "def find_item(data):\n",
    "    \n",
    "    functions = [(i,text) for i, text in enumerate(data) if text['type'] == 'FunctionDef']\n",
    "    \n",
    "    full_list = {}\n",
    "    for (index, f) in functions:\n",
    "        ans = []\n",
    "        row = f['children']\n",
    "        while row:\n",
    "            ans.append(row)\n",
    "            row = [node for root in row for node in data[root].get('children',[]) if node]\n",
    "        full_list[index] =  (f,ans)\n",
    "    \n",
    "    return full_list\n",
    "\n",
    "def find_expr_str(List, data):\n",
    "    \n",
    "    ans = []\n",
    "    for cand_id in range(len(List)):\n",
    "        for i in List[cand_id]:\n",
    "            if data[i]['type'] == 'Expr':\n",
    "                if data[data[i]['children'][0]]['type'] == 'Str':\n",
    "                    ans.append((i, data[i]['children'][0], data[data[i]['children'][0]]))\n",
    "    return ans"
   ]
  },
  {
   "cell_type": "code",
   "execution_count": 10,
   "metadata": {
    "collapsed": false
   },
   "outputs": [],
   "source": [
    "def find_def_docstring(data):\n",
    "    ans = []\n",
    "    full_list = find_item(data)\n",
    "    \n",
    "    for k, v in full_list.items():\n",
    "        if find_expr_str(v[1], data):\n",
    "            docstring = find_expr_str(v[1], data)\n",
    "            ans.append((full_list[k][0]['value'], docstring[0][2]['value']))\n",
    "    return ans"
   ]
  },
  {
   "cell_type": "code",
   "execution_count": 11,
   "metadata": {
    "collapsed": false
   },
   "outputs": [],
   "source": [
    "function_info = []\n",
    "for i, value in enumerate(all_data):\n",
    "    func_doc = find_def_docstring(value)\n",
    "    if func_doc:\n",
    "        for tuples in func_doc:\n",
    "            function_info.append([i, tuples[0], tuples[1]])"
   ]
  },
  {
   "cell_type": "code",
   "execution_count": 12,
   "metadata": {
    "collapsed": false
   },
   "outputs": [],
   "source": [
    "df = pd.DataFrame(np.array(function_info), columns=['data_id', 'function_name', 'docstring'])"
   ]
  },
  {
   "cell_type": "code",
   "execution_count": 13,
   "metadata": {
    "collapsed": false
   },
   "outputs": [
    {
     "data": {
      "text/plain": [
       "(264, 3)"
      ]
     },
     "execution_count": 13,
     "metadata": {},
     "output_type": "execute_result"
    }
   ],
   "source": [
    "df.shape"
   ]
  },
  {
   "cell_type": "code",
   "execution_count": 14,
   "metadata": {
    "collapsed": false
   },
   "outputs": [
    {
     "data": {
      "text/html": [
       "<div>\n",
       "<table border=\"1\" class=\"dataframe\">\n",
       "  <thead>\n",
       "    <tr style=\"text-align: right;\">\n",
       "      <th></th>\n",
       "      <th>data_id</th>\n",
       "      <th>function_name</th>\n",
       "      <th>docstring</th>\n",
       "    </tr>\n",
       "  </thead>\n",
       "  <tbody>\n",
       "    <tr>\n",
       "      <th>0</th>\n",
       "      <td>8</td>\n",
       "      <td>ping</td>\n",
       "      <td>Handle ping requests</td>\n",
       "    </tr>\n",
       "    <tr>\n",
       "      <th>1</th>\n",
       "      <td>8</td>\n",
       "      <td>message</td>\n",
       "      <td>Proxy message from one user to another</td>\n",
       "    </tr>\n",
       "    <tr>\n",
       "      <th>2</th>\n",
       "      <td>8</td>\n",
       "      <td>presence</td>\n",
       "      <td>Presence information may be sent out from the ...</td>\n",
       "    </tr>\n",
       "    <tr>\n",
       "      <th>3</th>\n",
       "      <td>8</td>\n",
       "      <td>roster</td>\n",
       "      <td>A roster is this account's list of contacts; i...</td>\n",
       "    </tr>\n",
       "    <tr>\n",
       "      <th>4</th>\n",
       "      <td>8</td>\n",
       "      <td>push</td>\n",
       "      <td>Push roster changes to all clients that have r...</td>\n",
       "    </tr>\n",
       "  </tbody>\n",
       "</table>\n",
       "</div>"
      ],
      "text/plain": [
       "  data_id function_name                                          docstring\n",
       "0       8          ping                               Handle ping requests\n",
       "1       8       message             Proxy message from one user to another\n",
       "2       8      presence  Presence information may be sent out from the ...\n",
       "3       8        roster  A roster is this account's list of contacts; i...\n",
       "4       8          push  Push roster changes to all clients that have r..."
      ]
     },
     "execution_count": 14,
     "metadata": {},
     "output_type": "execute_result"
    }
   ],
   "source": [
    "df.head()"
   ]
  },
  {
   "cell_type": "code",
   "execution_count": 15,
   "metadata": {
    "collapsed": true
   },
   "outputs": [],
   "source": [
    "df.to_pickle(\"./dummy.pkl\")"
   ]
  },
  {
   "cell_type": "code",
   "execution_count": null,
   "metadata": {
    "collapsed": false
   },
   "outputs": [],
   "source": [
    "### unpickled_df = pd.read_pickle(\"./dummy.pkl\")\n",
    "### unpickled_df"
   ]
  },
  {
   "cell_type": "code",
   "execution_count": null,
   "metadata": {
    "collapsed": false
   },
   "outputs": [],
   "source": []
  },
  {
   "cell_type": "code",
   "execution_count": null,
   "metadata": {
    "collapsed": true
   },
   "outputs": [],
   "source": []
  }
 ],
 "metadata": {
  "kernelspec": {
   "display_name": "Python 3",
   "language": "python",
   "name": "python3"
  },
  "language_info": {
   "codemirror_mode": {
    "name": "ipython",
    "version": 3
   },
   "file_extension": ".py",
   "mimetype": "text/x-python",
   "name": "python",
   "nbconvert_exporter": "python",
   "pygments_lexer": "ipython3",
   "version": "3.6.6"
  }
 },
 "nbformat": 4,
 "nbformat_minor": 2
}
