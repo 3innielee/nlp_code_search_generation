{
 "cells": [
  {
   "cell_type": "markdown",
   "metadata": {},
   "source": [
    "# Data Source"
   ]
  },
  {
   "cell_type": "markdown",
   "metadata": {},
   "source": [
    "1. Download data ourselves using [Stack Exchange API](https://api.stackexchange.com/docs)\n",
    "2. [Stack Overflow data dump](https://archive.org/details/stackexchange): archived data since January 2014? (updated every 3 months)\n",
    "3. [Google BigQuery public datasets]()"
   ]
  },
  {
   "cell_type": "markdown",
   "metadata": {},
   "source": [
    "## Using Stack Exchange API"
   ]
  },
  {
   "cell_type": "markdown",
   "metadata": {},
   "source": [
    "- \"hello world\" [tutorial](https://stackapps.com/questions/2/api-hello-world-code)\n",
    "- [Data Explorer](https://data.stackexchange.com/stackoverflow/queries) \n",
    "- searching in searchbox [link](https://meta.stackexchange.com/questions/5229/how-do-i-search-for-questions-with-or-without-specific-tags)"
   ]
  },
  {
   "cell_type": "markdown",
   "metadata": {},
   "source": [
    "### Steps\n",
    "1. Register application on [Stack Apps](http://stackapps.com/apps/oauth/register)\n",
    "2. Create access_tokens via [authentication](https://api.stackexchange.com/docs/authentication)"
   ]
  },
  {
   "cell_type": "markdown",
   "metadata": {},
   "source": [
    "## Using Stack Overflow  data dump"
   ]
  },
  {
   "cell_type": "markdown",
   "metadata": {},
   "source": [
    "## Using Google BigQuery"
   ]
  },
  {
   "cell_type": "markdown",
   "metadata": {},
   "source": [
    "- https://cloud.google.com/blog/products/gcp/google-bigquery-public-datasets-now-include-stack-overflow-q-a\n",
    "- https://medium.com/@hoffa\n",
    "- https://www.kaggle.com/paultimothymooney/how-to-query-the-stack-overflow-data"
   ]
  }
 ],
 "metadata": {
  "kernelspec": {
   "display_name": "Python 3",
   "language": "python",
   "name": "python3"
  },
  "language_info": {
   "codemirror_mode": {
    "name": "ipython",
    "version": 3
   },
   "file_extension": ".py",
   "mimetype": "text/x-python",
   "name": "python",
   "nbconvert_exporter": "python",
   "pygments_lexer": "ipython3",
   "version": "3.6.5"
  }
 },
 "nbformat": 4,
 "nbformat_minor": 2
}
